{
 "cells": [
  {
   "cell_type": "code",
   "execution_count": 1,
   "metadata": {
    "collapsed": false
   },
   "outputs": [
    {
     "name": "stderr",
     "output_type": "stream",
     "text": [
      "C:\\Users\\Chris De Villier\\Anaconda3\\lib\\site-packages\\sklearn\\cross_validation.py:44: DeprecationWarning: This module was deprecated in version 0.18 in favor of the model_selection module into which all the refactored classes and functions are moved. Also note that the interface of the new CV iterators are different from that of this module. This module will be removed in 0.20.\n",
      "  \"This module will be removed in 0.20.\", DeprecationWarning)\n",
      "C:\\Users\\Chris De Villier\\Anaconda3\\lib\\site-packages\\sklearn\\grid_search.py:43: DeprecationWarning: This module was deprecated in version 0.18 in favor of the model_selection module into which all the refactored classes and functions are moved. This module will be removed in 0.20.\n",
      "  DeprecationWarning)\n"
     ]
    }
   ],
   "source": [
    "import scipy.io as sio\n",
    "import numpy as np\n",
    "import pandas as pd\n",
    "import matplotlib.pyplot as plt\n",
    "%matplotlib inline\n",
    "#import pywt\n",
    "#from pywt import wavedec\n",
    "from sklearn import preprocessing, cross_validation, svm\n",
    "from sklearn.svm import SVC\n",
    "from sklearn.linear_model import LinearRegression\n",
    "from sklearn.ensemble import RandomForestClassifier\n",
    "from sklearn.cross_validation import KFold\n",
    "from sklearn import cross_validation\n",
    "from sklearn.utils import shuffle\n",
    "from sklearn.ensemble import GradientBoostingClassifier\n",
    "from scipy import stats\n",
    "from scipy.signal import *\n",
    "from numpy.fft import * \n",
    "from matplotlib import *\n",
    "from pylab import *\n",
    "from sklearn.externals import joblib\n",
    "from sklearn.grid_search import GridSearchCV\n",
    "from imblearn.over_sampling import SMOTE\n",
    "from sklearn.metrics import accuracy_score, roc_auc_score\n",
    "from sklearn import neighbors\n",
    "from sklearn.metrics import roc_curve\n",
    "#import django"
   ]
  },
  {
   "cell_type": "code",
   "execution_count": 2,
   "metadata": {
    "collapsed": false
   },
   "outputs": [
    {
     "data": {
      "text/plain": [
       "'3.5.2 |Anaconda 4.1.1 (64-bit)| (default, Jul  5 2016, 11:41:13) [MSC v.1900 64 bit (AMD64)]'"
      ]
     },
     "execution_count": 2,
     "metadata": {},
     "output_type": "execute_result"
    }
   ],
   "source": [
    "sys.version"
   ]
  },
  {
   "cell_type": "code",
   "execution_count": 3,
   "metadata": {
    "collapsed": false
   },
   "outputs": [],
   "source": [
    "import os\n",
    "original_path =r\"C:\\Users\\Chris De Villier\\Documents\\train_3\"\n",
    "\n",
    "def access_data():\n",
    "    '''\n",
    "    Access files in directories and get their names\n",
    "    '''\n",
    "    path = original_path\n",
    "    zero_files =[]\n",
    "    one_files = []\n",
    "    file_list = [x for x in os.walk(path)]\n",
    "    #print('Access files',file_list) #file_list)\n",
    "    names = str(file_list).split(\",\")\n",
    "    #print(names[3])\n",
    "    df = pd.read_csv(r\"C:\\Users\\Chris De Villier\\Documents\\train_and_test_data_labels_safe.csv\")\n",
    "    unsafe = df[df['safe']==0]\n",
    "    unsafe_names = unsafe['image']\n",
    "    for name in (names[2:]):\n",
    "        if str(name).strip() not in str(unsafe_names).strip(): \n",
    "            nameparts = name.split(\"_\")\n",
    "\n",
    "            last_part_of_name = str(nameparts[2]).split(\".\")\n",
    "            last_part_of_name = int(last_part_of_name[0])\n",
    "            #print(last_part_of_name)\n",
    "            if (last_part_of_name) == 0:\n",
    "                zero_files.append(name.replace('\"','').replace(\"'\",\"\").replace(\"[\",\"\").replace(\"]\",\"\").replace(\")\",\"\").replace(\"(\",\"\"))\n",
    "            elif (last_part_of_name) == 1:\n",
    "                one_files.append(name.replace('\"','').replace(\"'\",\"\").replace(\"[\",\"\").replace(\"]\",\"\").replace(\")\",\"\").replace(\"(\",\"\"))\n",
    "            else: print('failed ',name.replace('\"','').replace(\"'\",\"\").replace(\"[\",\"\").replace(\"]\",\"\").replace(\")\",\"\").replace(\"(\",\"\"))    \n",
    "    return zero_files,one_files\n",
    "            "
   ]
  },
  {
   "cell_type": "code",
   "execution_count": 4,
   "metadata": {
    "collapsed": false
   },
   "outputs": [],
   "source": [
    "def getFiles(files,path):\n",
    "    ''' Get files contents. files are in .mat format (Matlab format)'''\n",
    "    allfiles =[]\n",
    "    allfiles_temp =[]\n",
    "    corrupted_files =[]\n",
    "    uncorrupted_files =[]\n",
    "    empty = ' '\n",
    "\n",
    "    for i in range(len(files)): #\n",
    "        #print(i)\n",
    "        #if i<100:\n",
    "        path1 = path+\"/\"+str(files[i]).strip()\n",
    "        print(i,empty,path1)\n",
    "        try:\n",
    "            contents = sio.loadmat(path1)\n",
    "            data = contents['dataStruct']\n",
    "            mdtype = data.dtype \n",
    "            ndata = {n: data[n][0, 0] for n in mdtype.names}\n",
    "            columns = [n for n, v in ndata.items()]\n",
    "            dataList = ndata['data']\n",
    "            x = pd.DataFrame(dataList)\n",
    "            #print('Step 1',)\n",
    "            modifiedData = getSignalBands(x)\n",
    "            temp = defineOneSecSamples(modifiedData)\n",
    "            finalData = setMeanAndStd(temp)\n",
    "            #modifiedData = defineOneSecSamples(modifiedData,5)\n",
    "            #print(temp.shape)\n",
    "            #print(finalData.head())\n",
    "            allfiles.append(finalData)\n",
    "            uncorrupted_files.append(files[i])\n",
    "#             modifiedData = getSignalBands(x)\n",
    "\n",
    "#             temp = defineOneSecSamples(modifiedData)\n",
    "#             allfiles.append(temp)\n",
    "\n",
    "            x = nan\n",
    "            modifiedData = nan\n",
    "            temp = None\n",
    "\n",
    "        except ValueError :\n",
    "            corrupted_files.append(path1)\n",
    "            print(\"Error occurred trying to access content of .mat file\")\n",
    "            print(ValueError)\n",
    "        except Exception as e :\n",
    "            corrupted_files.append(path1)\n",
    "            print(\"Error occurred trying to access content of .mat file\")\n",
    "            print(str(e))\n",
    "           \n",
    "    return allfiles,corrupted_files,uncorrupted_files\n"
   ]
  },
  {
   "cell_type": "code",
   "execution_count": 5,
   "metadata": {
    "collapsed": true
   },
   "outputs": [],
   "source": [
    "def defineOneSecSamples(file, step=400):\n",
    "    smallerFile=[]\n",
    "    start=0\n",
    "    step_ = step\n",
    "    x = pd.DataFrame(file)\n",
    "    #print('Starting loop ',len(file)/step)\n",
    "    for i in range(int((len(file))/step_)):\n",
    "        #print('Starting loop ',i)\n",
    "        temp = x.iloc[start:step,:].mean(axis=0)\n",
    "        #print( 'Start ',start)\n",
    "        #print( 'End ',step)\n",
    "        start = step\n",
    "        step +=step_ \n",
    "        smallerFile.append(temp)\n",
    "    smaller_file = pd.DataFrame(smallerFile)\n",
    "        #print('Starting inside loop {} of lenght {}'.format(j,len(file[0][i])))\n",
    "    #print('Ending loop ')    \n",
    "    return smaller_file"
   ]
  },
  {
   "cell_type": "code",
   "execution_count": 6,
   "metadata": {
    "collapsed": true
   },
   "outputs": [],
   "source": [
    "def aggregateData():\n",
    "    \n",
    "    zeros,ones = access_data()\n",
    "    preict,corrupted_files_0,uncorrupted_files_0= getFiles(zeros,original_path)\n",
    "    inter,corrupted_files_1,uncorrupted_files_1 = getFiles(ones,original_path)\n",
    "    preictal_df=[]\n",
    "    interictal_df =[]\n",
    "   \n",
    "    for index in range(len(preict)):\n",
    "        if index == 0:\n",
    "            pr = pd.DataFrame(preict[index])\n",
    "            preictal_df.append(pr)\n",
    "        else:\n",
    "            pr = pd.DataFrame(preict[index])\n",
    "            preictal_df.append(pr)\n",
    "   \n",
    "    for index in range(len(inter)):\n",
    "        if index == 0:\n",
    "            intertemp = pd.DataFrame(inter[index])\n",
    "            interictal_df.append(intertemp)\n",
    "        else:\n",
    "            interTemp = pd.DataFrame(inter[index])\n",
    "            interictal_df.append(intertemp)\n",
    "\n",
    "    \n",
    "    preictal= pd.concat(preictal_df,ignore_index=True)\n",
    "    interictal= pd.concat(interictal_df,ignore_index=True)\n",
    "    #preictal = ordered_channel_data(preictal)\n",
    "    #interictal = ordered_channel_data(interictal)\n",
    "   \n",
    "    return preictal,interictal,corrupted_files_0,corrupted_files_1"
   ]
  },
  {
   "cell_type": "code",
   "execution_count": 11,
   "metadata": {
    "collapsed": false
   },
   "outputs": [],
   "source": [
    " def getSignalBands(x):\n",
    "    #print('Starting Get Signal function ',x.shape[1])\n",
    "    for ch in range(1): #x.shape[1]\n",
    "        \n",
    "        delta = 'delta_'+str(ch)\n",
    "        theta = 'theta_'+str(ch)\n",
    "        alpha = 'alpha_'+str(ch)\n",
    "        beta = 'beta_'+str(ch)\n",
    "        limit = len(x)\n",
    "        eeg = [] \n",
    "        #ch = 1 # particualr channel to study \n",
    "        #eeg = array(eeg)\n",
    "        eeg = array(x)\n",
    "        print(' signal 1')\n",
    "        y = eeg[:,ch]         # the signal, study channel 'ch'\n",
    "        L = len(y)            # signal length\n",
    "        fs = 400.0              # sampling rate\n",
    "        T = 1/fs                # sample time\n",
    "        t= linspace(1,L,L)*T   # time vector\n",
    "       \n",
    "        f = fs*linspace(0,L\n",
    "\n",
    "        \n",
    "                        /10,L/10)/L  # single side frequency vector, real frequency up to fs/2\n",
    "        Y = fft(y)\n",
    "        \n",
    "        #figure()\n",
    "        filtered = []\n",
    "       \n",
    "        b= [] # store filter coefficient\n",
    "        cutoff = [0.5,4.0,7.0,12.0,30.0]\n",
    "        print(' signal 2')\n",
    "        for band in range(0, len(cutoff)-1):\n",
    "         print(' signal 3')\n",
    "         wl = 2*cutoff[band]/fs*pi\n",
    "         wh = 2*cutoff[band+1]/fs*pi\n",
    "         M = 512      # Set number of weights as 128\n",
    "         bn = zeros(M)\n",
    "         print(' signal 3')\n",
    "         for i in range(0,M):     # Generate bandpass weighting function\n",
    "          n = i-  M/2       # Make symmetrical\n",
    "          if n == 0:\n",
    "           bn[i] = wh/pi - wl/pi;\n",
    "          else:\n",
    "           bn[i] = (sin(wh*n))/(pi*n) - (sin(wl*n))/(pi*n)   # Filter impulse response\n",
    "         print(' signal 3')\n",
    "         bn = bn*kaiser(M,5.2)  # apply Kaiser window, alpha= 5.2\n",
    "         b.append(bn)\n",
    "        \n",
    "         [w,h]=freqz(bn,1)\n",
    "         filtered.append(convolve(bn, y)) # filter the signal by convolving the signal with filter coefficients\n",
    "       \n",
    "        x[delta] = filtered[0][:limit]\n",
    "        x[theta] = filtered[1][:limit]\n",
    "        x[alpha] = filtered[2][:limit]\n",
    "        x[beta] = filtered[3][:limit]\n",
    "        \n",
    "    #x = setMeanAndStd(x)\n",
    "    #print(x)\n",
    "    return x"
   ]
  },
  {
   "cell_type": "code",
   "execution_count": 7,
   "metadata": {
    "collapsed": true
   },
   "outputs": [],
   "source": [
    "def setMeanAndStd(x):\n",
    "    \n",
    "    for index in range(1):\n",
    "        #print('Starting setMeanandSTd')\n",
    "        delta = 'delta_'+str(index)\n",
    "        theta = 'theta_'+str(index)\n",
    "        alpha = 'alpha_'+str(index)\n",
    "        beta = 'beta_'+str(index)\n",
    "        nameMean = 'Mean_'+str(index)\n",
    "        nameStd = 'Std_'+str(index)\n",
    "        x[nameMean] = x[[index,delta,theta,alpha,beta]].mean(axis=1)\n",
    "        x[nameStd] = x[[index,delta,theta,alpha,beta]].std(axis=1)\n",
    "        fourier_real = 'fourier_real_'+str(index)\n",
    "        fourier_imag = 'fourier_imag_'+str(index)\n",
    "        namefourier = 'fourier_'+str(index)\n",
    "        energy='energy_'+str(index)\n",
    "        freq_sum='freq_sum_'+str(index)\n",
    "        freq_std='freq_std_'+str(index)\n",
    "        freq_mean='freq_mean_'+str(index)\n",
    "        #freq_mean='freq_mean_'+str(index)\n",
    "        signal = x[index]\n",
    "        x[namefourier]=np.abs(np.fft.fft(signal))\n",
    "        real =[]\n",
    "        imag = []\n",
    "        signal_energies = []\n",
    "        frq_sum=[]\n",
    "        signal_standard_deviation =[]\n",
    "        signal_mean =[]\n",
    "        position = 1\n",
    "        #print('len of namefourier ',(x[namefourier].head()))\n",
    "        #for k in range(len(x[namefourier])):\n",
    "            #print(x[namefourier].head())\n",
    "            #print(str(x[namefourier][:position][k])) #[:position]\n",
    "            #print(str(x[namefourier][:1][1]))\n",
    "            #print('position ',position)\n",
    "            #print(len(xx[complex_fourier]),k,complex_fourier)[k]\n",
    "#         orig_figure = np.complex(str(x[namefourier][:position]).replace('(',' ').replace(')',' ').replace(' ',''))\n",
    "\n",
    "#         print(orig_figure)\n",
    "#         r = orig_figure.real\n",
    "#         im = orig_figure.imag\n",
    "#         r_squared = abs(r*r)\n",
    "#         im_squared = abs(im*im)\n",
    "#         frequency_sum = r+im\n",
    "#         signal_magnitude = sqrt(r_squared+im_squared)\n",
    "#         signal_std = np.std([r,im])\n",
    "#         sign_mean = np.mean([r,im])\n",
    "#         real.append(r)\n",
    "#         imag.append(im)\n",
    "#         signal_energies.append(signal_magnitude)\n",
    "#         frq_sum.append(frequency_sum)\n",
    "#         signal_standard_deviation.append(signal_std)\n",
    "#         signal_mean.append(sign_mean)\n",
    "#         position +=1\n",
    "        \n",
    "#         x[fourier_real]= pd.DataFrame(real)\n",
    "#         x[fourier_imag]= pd.DataFrame(imag)\n",
    "#         x[energy]= pd.DataFrame(signal_energies)\n",
    "#         x[freq_sum]= pd.DataFrame(frq_sum)\n",
    "#         x[freq_std]= pd.DataFrame(signal_standard_deviation)\n",
    "#         x[freq_mean]= pd.DataFrame(signal_mean)\n",
    "#         x = x.drop(namefourier,1)\n",
    "        #print(x.columns)\n",
    "#         x[[0,'fourier_real_0','fourier_imag_0','energy_0','freq_sum_0','freq_std_0','freq_mean_0',\n",
    "#              'theta_0','beta_0','alpha_0','delta_0']]\n",
    "    #print(x)\n",
    "    return x"
   ]
  },
  {
   "cell_type": "code",
   "execution_count": 12,
   "metadata": {
    "collapsed": false
   },
   "outputs": [
    {
     "name": "stdout",
     "output_type": "stream",
     "text": [
      "0   C:\\Users\\Chris De Villier\\Documents\\train_3/3_1000_0.mat\n",
      " signal 1\n",
      " signal 2\n",
      " signal 3\n",
      " signal 3\n",
      " signal 3\n",
      " signal 3\n",
      " signal 3\n",
      " signal 3\n",
      " signal 3\n",
      " signal 3\n",
      " signal 3\n",
      " signal 3\n",
      " signal 3\n",
      " signal 3\n",
      "1   C:\\Users\\Chris De Villier\\Documents\\train_3/3_1001_0.mat\n",
      " signal 1\n",
      " signal 2\n",
      " signal 3\n",
      " signal 3\n",
      " signal 3\n",
      " signal 3\n",
      " signal 3\n",
      " signal 3\n",
      " signal 3\n",
      " signal 3\n",
      " signal 3\n",
      " signal 3\n",
      " signal 3\n",
      " signal 3\n",
      "2   C:\\Users\\Chris De Villier\\Documents\\train_3/3_1002_0.mat\n",
      " signal 1\n",
      " signal 2\n",
      " signal 3\n",
      " signal 3\n",
      " signal 3\n",
      " signal 3\n",
      " signal 3\n",
      " signal 3\n",
      " signal 3\n",
      " signal 3\n",
      " signal 3\n",
      " signal 3\n",
      " signal 3\n",
      " signal 3\n",
      "3   C:\\Users\\Chris De Villier\\Documents\\train_3/3_1003_0.mat\n",
      " signal 1\n",
      " signal 2\n",
      " signal 3\n",
      " signal 3\n",
      " signal 3\n",
      " signal 3\n",
      " signal 3\n",
      " signal 3\n",
      " signal 3\n",
      " signal 3\n",
      " signal 3\n",
      " signal 3\n",
      " signal 3\n",
      " signal 3\n",
      "4   C:\\Users\\Chris De Villier\\Documents\\train_3/3_1004_0.mat\n",
      " signal 1\n",
      " signal 2\n",
      " signal 3\n",
      " signal 3\n",
      " signal 3\n",
      " signal 3\n",
      " signal 3\n",
      " signal 3\n",
      " signal 3\n",
      " signal 3\n",
      " signal 3\n",
      " signal 3\n",
      " signal 3\n",
      " signal 3\n",
      "5   C:\\Users\\Chris De Villier\\Documents\\train_3/3_1005_0.mat\n",
      " signal 1\n",
      " signal 2\n",
      " signal 3\n",
      " signal 3\n",
      " signal 3\n",
      " signal 3\n",
      " signal 3\n",
      " signal 3\n",
      " signal 3\n",
      " signal 3\n",
      " signal 3\n",
      " signal 3\n",
      " signal 3\n",
      " signal 3\n",
      "6   C:\\Users\\Chris De Villier\\Documents\\train_3/3_1006_0.mat\n",
      " signal 1\n",
      " signal 2\n",
      " signal 3\n",
      " signal 3\n",
      " signal 3\n",
      " signal 3\n",
      " signal 3\n",
      " signal 3\n",
      " signal 3\n",
      " signal 3\n",
      " signal 3\n",
      " signal 3\n",
      " signal 3\n",
      " signal 3\n"
     ]
    },
    {
     "ename": "KeyboardInterrupt",
     "evalue": "",
     "output_type": "error",
     "traceback": [
      "\u001b[1;31m---------------------------------------------------------------------------\u001b[0m",
      "\u001b[1;31mKeyboardInterrupt\u001b[0m                         Traceback (most recent call last)",
      "\u001b[1;32m<ipython-input-12-da93ffe7049c>\u001b[0m in \u001b[0;36m<module>\u001b[1;34m()\u001b[0m\n\u001b[1;32m----> 1\u001b[1;33m \u001b[0mpreictal\u001b[0m\u001b[1;33m,\u001b[0m\u001b[0minterictal\u001b[0m\u001b[1;33m,\u001b[0m\u001b[0merr0\u001b[0m\u001b[1;33m,\u001b[0m\u001b[0merr1\u001b[0m \u001b[1;33m=\u001b[0m \u001b[0maggregateData\u001b[0m\u001b[1;33m(\u001b[0m\u001b[1;33m)\u001b[0m\u001b[1;33m\u001b[0m\u001b[0m\n\u001b[0m",
      "\u001b[1;32m<ipython-input-6-cba8b4de780f>\u001b[0m in \u001b[0;36maggregateData\u001b[1;34m()\u001b[0m\n\u001b[0;32m      2\u001b[0m \u001b[1;33m\u001b[0m\u001b[0m\n\u001b[0;32m      3\u001b[0m     \u001b[0mzeros\u001b[0m\u001b[1;33m,\u001b[0m\u001b[0mones\u001b[0m \u001b[1;33m=\u001b[0m \u001b[0maccess_data\u001b[0m\u001b[1;33m(\u001b[0m\u001b[1;33m)\u001b[0m\u001b[1;33m\u001b[0m\u001b[0m\n\u001b[1;32m----> 4\u001b[1;33m     \u001b[0mpreict\u001b[0m\u001b[1;33m,\u001b[0m\u001b[0mcorrupted_files_0\u001b[0m\u001b[1;33m,\u001b[0m\u001b[0muncorrupted_files_0\u001b[0m\u001b[1;33m=\u001b[0m \u001b[0mgetFiles\u001b[0m\u001b[1;33m(\u001b[0m\u001b[0mzeros\u001b[0m\u001b[1;33m,\u001b[0m\u001b[0moriginal_path\u001b[0m\u001b[1;33m)\u001b[0m\u001b[1;33m\u001b[0m\u001b[0m\n\u001b[0m\u001b[0;32m      5\u001b[0m     \u001b[0minter\u001b[0m\u001b[1;33m,\u001b[0m\u001b[0mcorrupted_files_1\u001b[0m\u001b[1;33m,\u001b[0m\u001b[0muncorrupted_files_1\u001b[0m \u001b[1;33m=\u001b[0m \u001b[0mgetFiles\u001b[0m\u001b[1;33m(\u001b[0m\u001b[0mones\u001b[0m\u001b[1;33m,\u001b[0m\u001b[0moriginal_path\u001b[0m\u001b[1;33m)\u001b[0m\u001b[1;33m\u001b[0m\u001b[0m\n\u001b[0;32m      6\u001b[0m     \u001b[0mpreictal_df\u001b[0m\u001b[1;33m=\u001b[0m\u001b[1;33m[\u001b[0m\u001b[1;33m]\u001b[0m\u001b[1;33m\u001b[0m\u001b[0m\n",
      "\u001b[1;32m<ipython-input-4-7b201efde6ae>\u001b[0m in \u001b[0;36mgetFiles\u001b[1;34m(files, path)\u001b[0m\n\u001b[0;32m     22\u001b[0m             \u001b[1;31m#print('Step 1',)\u001b[0m\u001b[1;33m\u001b[0m\u001b[1;33m\u001b[0m\u001b[0m\n\u001b[0;32m     23\u001b[0m             \u001b[0mmodifiedData\u001b[0m \u001b[1;33m=\u001b[0m \u001b[0mgetSignalBands\u001b[0m\u001b[1;33m(\u001b[0m\u001b[0mx\u001b[0m\u001b[1;33m)\u001b[0m\u001b[1;33m\u001b[0m\u001b[0m\n\u001b[1;32m---> 24\u001b[1;33m             \u001b[0mtemp\u001b[0m \u001b[1;33m=\u001b[0m \u001b[0mdefineOneSecSamples\u001b[0m\u001b[1;33m(\u001b[0m\u001b[0mmodifiedData\u001b[0m\u001b[1;33m)\u001b[0m\u001b[1;33m\u001b[0m\u001b[0m\n\u001b[0m\u001b[0;32m     25\u001b[0m             \u001b[0mfinalData\u001b[0m \u001b[1;33m=\u001b[0m \u001b[0msetMeanAndStd\u001b[0m\u001b[1;33m(\u001b[0m\u001b[0mtemp\u001b[0m\u001b[1;33m)\u001b[0m\u001b[1;33m\u001b[0m\u001b[0m\n\u001b[0;32m     26\u001b[0m             \u001b[1;31m#modifiedData = defineOneSecSamples(modifiedData,5)\u001b[0m\u001b[1;33m\u001b[0m\u001b[1;33m\u001b[0m\u001b[0m\n",
      "\u001b[1;32m<ipython-input-5-57beed631d81>\u001b[0m in \u001b[0;36mdefineOneSecSamples\u001b[1;34m(file, step)\u001b[0m\n\u001b[0;32m      7\u001b[0m     \u001b[1;32mfor\u001b[0m \u001b[0mi\u001b[0m \u001b[1;32min\u001b[0m \u001b[0mrange\u001b[0m\u001b[1;33m(\u001b[0m\u001b[0mint\u001b[0m\u001b[1;33m(\u001b[0m\u001b[1;33m(\u001b[0m\u001b[0mlen\u001b[0m\u001b[1;33m(\u001b[0m\u001b[0mfile\u001b[0m\u001b[1;33m)\u001b[0m\u001b[1;33m)\u001b[0m\u001b[1;33m/\u001b[0m\u001b[0mstep_\u001b[0m\u001b[1;33m)\u001b[0m\u001b[1;33m)\u001b[0m\u001b[1;33m:\u001b[0m\u001b[1;33m\u001b[0m\u001b[0m\n\u001b[0;32m      8\u001b[0m         \u001b[1;31m#print('Starting loop ',i)\u001b[0m\u001b[1;33m\u001b[0m\u001b[1;33m\u001b[0m\u001b[0m\n\u001b[1;32m----> 9\u001b[1;33m         \u001b[0mtemp\u001b[0m \u001b[1;33m=\u001b[0m \u001b[0mx\u001b[0m\u001b[1;33m.\u001b[0m\u001b[0miloc\u001b[0m\u001b[1;33m[\u001b[0m\u001b[0mstart\u001b[0m\u001b[1;33m:\u001b[0m\u001b[0mstep\u001b[0m\u001b[1;33m,\u001b[0m\u001b[1;33m:\u001b[0m\u001b[1;33m]\u001b[0m\u001b[1;33m.\u001b[0m\u001b[0mmean\u001b[0m\u001b[1;33m(\u001b[0m\u001b[0maxis\u001b[0m\u001b[1;33m=\u001b[0m\u001b[1;36m0\u001b[0m\u001b[1;33m)\u001b[0m\u001b[1;33m\u001b[0m\u001b[0m\n\u001b[0m\u001b[0;32m     10\u001b[0m         \u001b[1;31m#print( 'Start ',start)\u001b[0m\u001b[1;33m\u001b[0m\u001b[1;33m\u001b[0m\u001b[0m\n\u001b[0;32m     11\u001b[0m         \u001b[1;31m#print( 'End ',step)\u001b[0m\u001b[1;33m\u001b[0m\u001b[1;33m\u001b[0m\u001b[0m\n",
      "\u001b[1;32mC:\\Users\\Chris De Villier\\Anaconda3\\lib\\site-packages\\pandas\\core\\indexing.py\u001b[0m in \u001b[0;36m__getitem__\u001b[1;34m(self, key)\u001b[0m\n\u001b[0;32m   1292\u001b[0m \u001b[1;33m\u001b[0m\u001b[0m\n\u001b[0;32m   1293\u001b[0m         \u001b[1;32mif\u001b[0m \u001b[0mtype\u001b[0m\u001b[1;33m(\u001b[0m\u001b[0mkey\u001b[0m\u001b[1;33m)\u001b[0m \u001b[1;32mis\u001b[0m \u001b[0mtuple\u001b[0m\u001b[1;33m:\u001b[0m\u001b[1;33m\u001b[0m\u001b[0m\n\u001b[1;32m-> 1294\u001b[1;33m             \u001b[1;32mreturn\u001b[0m \u001b[0mself\u001b[0m\u001b[1;33m.\u001b[0m\u001b[0m_getitem_tuple\u001b[0m\u001b[1;33m(\u001b[0m\u001b[0mkey\u001b[0m\u001b[1;33m)\u001b[0m\u001b[1;33m\u001b[0m\u001b[0m\n\u001b[0m\u001b[0;32m   1295\u001b[0m         \u001b[1;32melse\u001b[0m\u001b[1;33m:\u001b[0m\u001b[1;33m\u001b[0m\u001b[0m\n\u001b[0;32m   1296\u001b[0m             \u001b[1;32mreturn\u001b[0m \u001b[0mself\u001b[0m\u001b[1;33m.\u001b[0m\u001b[0m_getitem_axis\u001b[0m\u001b[1;33m(\u001b[0m\u001b[0mkey\u001b[0m\u001b[1;33m,\u001b[0m \u001b[0maxis\u001b[0m\u001b[1;33m=\u001b[0m\u001b[1;36m0\u001b[0m\u001b[1;33m)\u001b[0m\u001b[1;33m\u001b[0m\u001b[0m\n",
      "\u001b[1;32mC:\\Users\\Chris De Villier\\Anaconda3\\lib\\site-packages\\pandas\\core\\indexing.py\u001b[0m in \u001b[0;36m_getitem_tuple\u001b[1;34m(self, tup)\u001b[0m\n\u001b[0;32m   1558\u001b[0m                 \u001b[1;32mcontinue\u001b[0m\u001b[1;33m\u001b[0m\u001b[0m\n\u001b[0;32m   1559\u001b[0m \u001b[1;33m\u001b[0m\u001b[0m\n\u001b[1;32m-> 1560\u001b[1;33m             \u001b[0mretval\u001b[0m \u001b[1;33m=\u001b[0m \u001b[0mgetattr\u001b[0m\u001b[1;33m(\u001b[0m\u001b[0mretval\u001b[0m\u001b[1;33m,\u001b[0m \u001b[0mself\u001b[0m\u001b[1;33m.\u001b[0m\u001b[0mname\u001b[0m\u001b[1;33m)\u001b[0m\u001b[1;33m.\u001b[0m\u001b[0m_getitem_axis\u001b[0m\u001b[1;33m(\u001b[0m\u001b[0mkey\u001b[0m\u001b[1;33m,\u001b[0m \u001b[0maxis\u001b[0m\u001b[1;33m=\u001b[0m\u001b[0maxis\u001b[0m\u001b[1;33m)\u001b[0m\u001b[1;33m\u001b[0m\u001b[0m\n\u001b[0m\u001b[0;32m   1561\u001b[0m \u001b[1;33m\u001b[0m\u001b[0m\n\u001b[0;32m   1562\u001b[0m             \u001b[1;31m# if the dim was reduced, then pass a lower-dim the next time\u001b[0m\u001b[1;33m\u001b[0m\u001b[1;33m\u001b[0m\u001b[0m\n",
      "\u001b[1;32mC:\\Users\\Chris De Villier\\Anaconda3\\lib\\site-packages\\pandas\\core\\indexing.py\u001b[0m in \u001b[0;36m_getitem_axis\u001b[1;34m(self, key, axis)\u001b[0m\n\u001b[0;32m   1585\u001b[0m         \u001b[1;32mif\u001b[0m \u001b[0misinstance\u001b[0m\u001b[1;33m(\u001b[0m\u001b[0mkey\u001b[0m\u001b[1;33m,\u001b[0m \u001b[0mslice\u001b[0m\u001b[1;33m)\u001b[0m\u001b[1;33m:\u001b[0m\u001b[1;33m\u001b[0m\u001b[0m\n\u001b[0;32m   1586\u001b[0m             \u001b[0mself\u001b[0m\u001b[1;33m.\u001b[0m\u001b[0m_has_valid_type\u001b[0m\u001b[1;33m(\u001b[0m\u001b[0mkey\u001b[0m\u001b[1;33m,\u001b[0m \u001b[0maxis\u001b[0m\u001b[1;33m)\u001b[0m\u001b[1;33m\u001b[0m\u001b[0m\n\u001b[1;32m-> 1587\u001b[1;33m             \u001b[1;32mreturn\u001b[0m \u001b[0mself\u001b[0m\u001b[1;33m.\u001b[0m\u001b[0m_get_slice_axis\u001b[0m\u001b[1;33m(\u001b[0m\u001b[0mkey\u001b[0m\u001b[1;33m,\u001b[0m \u001b[0maxis\u001b[0m\u001b[1;33m=\u001b[0m\u001b[0maxis\u001b[0m\u001b[1;33m)\u001b[0m\u001b[1;33m\u001b[0m\u001b[0m\n\u001b[0m\u001b[0;32m   1588\u001b[0m \u001b[1;33m\u001b[0m\u001b[0m\n\u001b[0;32m   1589\u001b[0m         \u001b[1;32melif\u001b[0m \u001b[0mis_bool_indexer\u001b[0m\u001b[1;33m(\u001b[0m\u001b[0mkey\u001b[0m\u001b[1;33m)\u001b[0m\u001b[1;33m:\u001b[0m\u001b[1;33m\u001b[0m\u001b[0m\n",
      "\u001b[1;32mC:\\Users\\Chris De Villier\\Anaconda3\\lib\\site-packages\\pandas\\core\\indexing.py\u001b[0m in \u001b[0;36m_get_slice_axis\u001b[1;34m(self, slice_obj, axis)\u001b[0m\n\u001b[0;32m   1577\u001b[0m         \u001b[0mslice_obj\u001b[0m \u001b[1;33m=\u001b[0m \u001b[0mself\u001b[0m\u001b[1;33m.\u001b[0m\u001b[0m_convert_slice_indexer\u001b[0m\u001b[1;33m(\u001b[0m\u001b[0mslice_obj\u001b[0m\u001b[1;33m,\u001b[0m \u001b[0maxis\u001b[0m\u001b[1;33m)\u001b[0m\u001b[1;33m\u001b[0m\u001b[0m\n\u001b[0;32m   1578\u001b[0m         \u001b[1;32mif\u001b[0m \u001b[0misinstance\u001b[0m\u001b[1;33m(\u001b[0m\u001b[0mslice_obj\u001b[0m\u001b[1;33m,\u001b[0m \u001b[0mslice\u001b[0m\u001b[1;33m)\u001b[0m\u001b[1;33m:\u001b[0m\u001b[1;33m\u001b[0m\u001b[0m\n\u001b[1;32m-> 1579\u001b[1;33m             \u001b[1;32mreturn\u001b[0m \u001b[0mself\u001b[0m\u001b[1;33m.\u001b[0m\u001b[0m_slice\u001b[0m\u001b[1;33m(\u001b[0m\u001b[0mslice_obj\u001b[0m\u001b[1;33m,\u001b[0m \u001b[0maxis\u001b[0m\u001b[1;33m=\u001b[0m\u001b[0maxis\u001b[0m\u001b[1;33m,\u001b[0m \u001b[0mkind\u001b[0m\u001b[1;33m=\u001b[0m\u001b[1;34m'iloc'\u001b[0m\u001b[1;33m)\u001b[0m\u001b[1;33m\u001b[0m\u001b[0m\n\u001b[0m\u001b[0;32m   1580\u001b[0m         \u001b[1;32melse\u001b[0m\u001b[1;33m:\u001b[0m\u001b[1;33m\u001b[0m\u001b[0m\n\u001b[0;32m   1581\u001b[0m             \u001b[1;32mreturn\u001b[0m \u001b[0mself\u001b[0m\u001b[1;33m.\u001b[0m\u001b[0mobj\u001b[0m\u001b[1;33m.\u001b[0m\u001b[0mtake\u001b[0m\u001b[1;33m(\u001b[0m\u001b[0mslice_obj\u001b[0m\u001b[1;33m,\u001b[0m \u001b[0maxis\u001b[0m\u001b[1;33m=\u001b[0m\u001b[0maxis\u001b[0m\u001b[1;33m,\u001b[0m \u001b[0mconvert\u001b[0m\u001b[1;33m=\u001b[0m\u001b[1;32mFalse\u001b[0m\u001b[1;33m)\u001b[0m\u001b[1;33m\u001b[0m\u001b[0m\n",
      "\u001b[1;32mC:\\Users\\Chris De Villier\\Anaconda3\\lib\\site-packages\\pandas\\core\\indexing.py\u001b[0m in \u001b[0;36m_slice\u001b[1;34m(self, obj, axis, kind)\u001b[0m\n\u001b[0;32m     97\u001b[0m \u001b[1;33m\u001b[0m\u001b[0m\n\u001b[0;32m     98\u001b[0m     \u001b[1;32mdef\u001b[0m \u001b[0m_slice\u001b[0m\u001b[1;33m(\u001b[0m\u001b[0mself\u001b[0m\u001b[1;33m,\u001b[0m \u001b[0mobj\u001b[0m\u001b[1;33m,\u001b[0m \u001b[0maxis\u001b[0m\u001b[1;33m=\u001b[0m\u001b[1;36m0\u001b[0m\u001b[1;33m,\u001b[0m \u001b[0mkind\u001b[0m\u001b[1;33m=\u001b[0m\u001b[1;32mNone\u001b[0m\u001b[1;33m)\u001b[0m\u001b[1;33m:\u001b[0m\u001b[1;33m\u001b[0m\u001b[0m\n\u001b[1;32m---> 99\u001b[1;33m         \u001b[1;32mreturn\u001b[0m \u001b[0mself\u001b[0m\u001b[1;33m.\u001b[0m\u001b[0mobj\u001b[0m\u001b[1;33m.\u001b[0m\u001b[0m_slice\u001b[0m\u001b[1;33m(\u001b[0m\u001b[0mobj\u001b[0m\u001b[1;33m,\u001b[0m \u001b[0maxis\u001b[0m\u001b[1;33m=\u001b[0m\u001b[0maxis\u001b[0m\u001b[1;33m,\u001b[0m \u001b[0mkind\u001b[0m\u001b[1;33m=\u001b[0m\u001b[0mkind\u001b[0m\u001b[1;33m)\u001b[0m\u001b[1;33m\u001b[0m\u001b[0m\n\u001b[0m\u001b[0;32m    100\u001b[0m \u001b[1;33m\u001b[0m\u001b[0m\n\u001b[0;32m    101\u001b[0m     \u001b[1;32mdef\u001b[0m \u001b[0m_get_setitem_indexer\u001b[0m\u001b[1;33m(\u001b[0m\u001b[0mself\u001b[0m\u001b[1;33m,\u001b[0m \u001b[0mkey\u001b[0m\u001b[1;33m)\u001b[0m\u001b[1;33m:\u001b[0m\u001b[1;33m\u001b[0m\u001b[0m\n",
      "\u001b[1;32mC:\\Users\\Chris De Villier\\Anaconda3\\lib\\site-packages\\pandas\\core\\generic.py\u001b[0m in \u001b[0;36m_slice\u001b[1;34m(self, slobj, axis, kind)\u001b[0m\n\u001b[0;32m   1452\u001b[0m         \"\"\"\n\u001b[0;32m   1453\u001b[0m         \u001b[0maxis\u001b[0m \u001b[1;33m=\u001b[0m \u001b[0mself\u001b[0m\u001b[1;33m.\u001b[0m\u001b[0m_get_block_manager_axis\u001b[0m\u001b[1;33m(\u001b[0m\u001b[0maxis\u001b[0m\u001b[1;33m)\u001b[0m\u001b[1;33m\u001b[0m\u001b[0m\n\u001b[1;32m-> 1454\u001b[1;33m         \u001b[0mresult\u001b[0m \u001b[1;33m=\u001b[0m \u001b[0mself\u001b[0m\u001b[1;33m.\u001b[0m\u001b[0m_constructor\u001b[0m\u001b[1;33m(\u001b[0m\u001b[0mself\u001b[0m\u001b[1;33m.\u001b[0m\u001b[0m_data\u001b[0m\u001b[1;33m.\u001b[0m\u001b[0mget_slice\u001b[0m\u001b[1;33m(\u001b[0m\u001b[0mslobj\u001b[0m\u001b[1;33m,\u001b[0m \u001b[0maxis\u001b[0m\u001b[1;33m=\u001b[0m\u001b[0maxis\u001b[0m\u001b[1;33m)\u001b[0m\u001b[1;33m)\u001b[0m\u001b[1;33m\u001b[0m\u001b[0m\n\u001b[0m\u001b[0;32m   1455\u001b[0m         \u001b[0mresult\u001b[0m \u001b[1;33m=\u001b[0m \u001b[0mresult\u001b[0m\u001b[1;33m.\u001b[0m\u001b[0m__finalize__\u001b[0m\u001b[1;33m(\u001b[0m\u001b[0mself\u001b[0m\u001b[1;33m)\u001b[0m\u001b[1;33m\u001b[0m\u001b[0m\n\u001b[0;32m   1456\u001b[0m \u001b[1;33m\u001b[0m\u001b[0m\n",
      "\u001b[1;32mC:\\Users\\Chris De Villier\\Anaconda3\\lib\\site-packages\\pandas\\core\\internals.py\u001b[0m in \u001b[0;36mget_slice\u001b[1;34m(self, slobj, axis)\u001b[0m\n\u001b[0;32m   3099\u001b[0m         bm = self.__class__(new_blocks, new_axes, do_integrity_check=False,\n\u001b[0;32m   3100\u001b[0m                             fastpath=True)\n\u001b[1;32m-> 3101\u001b[1;33m         \u001b[0mbm\u001b[0m\u001b[1;33m.\u001b[0m\u001b[0m_consolidate_inplace\u001b[0m\u001b[1;33m(\u001b[0m\u001b[1;33m)\u001b[0m\u001b[1;33m\u001b[0m\u001b[0m\n\u001b[0m\u001b[0;32m   3102\u001b[0m         \u001b[1;32mreturn\u001b[0m \u001b[0mbm\u001b[0m\u001b[1;33m\u001b[0m\u001b[0m\n\u001b[0;32m   3103\u001b[0m \u001b[1;33m\u001b[0m\u001b[0m\n",
      "\u001b[1;32mC:\\Users\\Chris De Villier\\Anaconda3\\lib\\site-packages\\pandas\\core\\internals.py\u001b[0m in \u001b[0;36m_consolidate_inplace\u001b[1;34m(self)\u001b[0m\n\u001b[0;32m   3276\u001b[0m     \u001b[1;32mdef\u001b[0m \u001b[0m_consolidate_inplace\u001b[0m\u001b[1;33m(\u001b[0m\u001b[0mself\u001b[0m\u001b[1;33m)\u001b[0m\u001b[1;33m:\u001b[0m\u001b[1;33m\u001b[0m\u001b[0m\n\u001b[0;32m   3277\u001b[0m         \u001b[1;32mif\u001b[0m \u001b[1;32mnot\u001b[0m \u001b[0mself\u001b[0m\u001b[1;33m.\u001b[0m\u001b[0mis_consolidated\u001b[0m\u001b[1;33m(\u001b[0m\u001b[1;33m)\u001b[0m\u001b[1;33m:\u001b[0m\u001b[1;33m\u001b[0m\u001b[0m\n\u001b[1;32m-> 3278\u001b[1;33m             \u001b[0mself\u001b[0m\u001b[1;33m.\u001b[0m\u001b[0mblocks\u001b[0m \u001b[1;33m=\u001b[0m \u001b[0mtuple\u001b[0m\u001b[1;33m(\u001b[0m\u001b[0m_consolidate\u001b[0m\u001b[1;33m(\u001b[0m\u001b[0mself\u001b[0m\u001b[1;33m.\u001b[0m\u001b[0mblocks\u001b[0m\u001b[1;33m)\u001b[0m\u001b[1;33m)\u001b[0m\u001b[1;33m\u001b[0m\u001b[0m\n\u001b[0m\u001b[0;32m   3279\u001b[0m             \u001b[0mself\u001b[0m\u001b[1;33m.\u001b[0m\u001b[0m_is_consolidated\u001b[0m \u001b[1;33m=\u001b[0m \u001b[1;32mTrue\u001b[0m\u001b[1;33m\u001b[0m\u001b[0m\n\u001b[0;32m   3280\u001b[0m             \u001b[0mself\u001b[0m\u001b[1;33m.\u001b[0m\u001b[0m_known_consolidated\u001b[0m \u001b[1;33m=\u001b[0m \u001b[1;32mTrue\u001b[0m\u001b[1;33m\u001b[0m\u001b[0m\n",
      "\u001b[1;32mC:\\Users\\Chris De Villier\\Anaconda3\\lib\\site-packages\\pandas\\core\\internals.py\u001b[0m in \u001b[0;36m_consolidate\u001b[1;34m(blocks)\u001b[0m\n\u001b[0;32m   4267\u001b[0m     \u001b[1;32mfor\u001b[0m \u001b[1;33m(\u001b[0m\u001b[0m_can_consolidate\u001b[0m\u001b[1;33m,\u001b[0m \u001b[0mdtype\u001b[0m\u001b[1;33m)\u001b[0m\u001b[1;33m,\u001b[0m \u001b[0mgroup_blocks\u001b[0m \u001b[1;32min\u001b[0m \u001b[0mgrouper\u001b[0m\u001b[1;33m:\u001b[0m\u001b[1;33m\u001b[0m\u001b[0m\n\u001b[0;32m   4268\u001b[0m         merged_blocks = _merge_blocks(list(group_blocks), dtype=dtype,\n\u001b[1;32m-> 4269\u001b[1;33m                                       _can_consolidate=_can_consolidate)\n\u001b[0m\u001b[0;32m   4270\u001b[0m         \u001b[0mnew_blocks\u001b[0m \u001b[1;33m=\u001b[0m \u001b[0m_extend_blocks\u001b[0m\u001b[1;33m(\u001b[0m\u001b[0mmerged_blocks\u001b[0m\u001b[1;33m,\u001b[0m \u001b[0mnew_blocks\u001b[0m\u001b[1;33m)\u001b[0m\u001b[1;33m\u001b[0m\u001b[0m\n\u001b[0;32m   4271\u001b[0m     \u001b[1;32mreturn\u001b[0m \u001b[0mnew_blocks\u001b[0m\u001b[1;33m\u001b[0m\u001b[0m\n",
      "\u001b[1;32mC:\\Users\\Chris De Villier\\Anaconda3\\lib\\site-packages\\pandas\\core\\internals.py\u001b[0m in \u001b[0;36m_merge_blocks\u001b[1;34m(blocks, dtype, _can_consolidate)\u001b[0m\n\u001b[0;32m   4287\u001b[0m         \u001b[1;31m# combination of those slices is a slice, too.\u001b[0m\u001b[1;33m\u001b[0m\u001b[1;33m\u001b[0m\u001b[0m\n\u001b[0;32m   4288\u001b[0m         \u001b[0mnew_mgr_locs\u001b[0m \u001b[1;33m=\u001b[0m \u001b[0mnp\u001b[0m\u001b[1;33m.\u001b[0m\u001b[0mconcatenate\u001b[0m\u001b[1;33m(\u001b[0m\u001b[1;33m[\u001b[0m\u001b[0mb\u001b[0m\u001b[1;33m.\u001b[0m\u001b[0mmgr_locs\u001b[0m\u001b[1;33m.\u001b[0m\u001b[0mas_array\u001b[0m \u001b[1;32mfor\u001b[0m \u001b[0mb\u001b[0m \u001b[1;32min\u001b[0m \u001b[0mblocks\u001b[0m\u001b[1;33m]\u001b[0m\u001b[1;33m)\u001b[0m\u001b[1;33m\u001b[0m\u001b[0m\n\u001b[1;32m-> 4289\u001b[1;33m         \u001b[0mnew_values\u001b[0m \u001b[1;33m=\u001b[0m \u001b[0m_vstack\u001b[0m\u001b[1;33m(\u001b[0m\u001b[1;33m[\u001b[0m\u001b[0mb\u001b[0m\u001b[1;33m.\u001b[0m\u001b[0mvalues\u001b[0m \u001b[1;32mfor\u001b[0m \u001b[0mb\u001b[0m \u001b[1;32min\u001b[0m \u001b[0mblocks\u001b[0m\u001b[1;33m]\u001b[0m\u001b[1;33m,\u001b[0m \u001b[0mdtype\u001b[0m\u001b[1;33m)\u001b[0m\u001b[1;33m\u001b[0m\u001b[0m\n\u001b[0m\u001b[0;32m   4290\u001b[0m \u001b[1;33m\u001b[0m\u001b[0m\n\u001b[0;32m   4291\u001b[0m         \u001b[0margsort\u001b[0m \u001b[1;33m=\u001b[0m \u001b[0mnp\u001b[0m\u001b[1;33m.\u001b[0m\u001b[0margsort\u001b[0m\u001b[1;33m(\u001b[0m\u001b[0mnew_mgr_locs\u001b[0m\u001b[1;33m)\u001b[0m\u001b[1;33m\u001b[0m\u001b[0m\n",
      "\u001b[1;32mC:\\Users\\Chris De Villier\\Anaconda3\\lib\\site-packages\\pandas\\core\\internals.py\u001b[0m in \u001b[0;36m_vstack\u001b[1;34m(to_stack, dtype)\u001b[0m\n\u001b[0;32m   4333\u001b[0m \u001b[1;33m\u001b[0m\u001b[0m\n\u001b[0;32m   4334\u001b[0m     \u001b[1;32melse\u001b[0m\u001b[1;33m:\u001b[0m\u001b[1;33m\u001b[0m\u001b[0m\n\u001b[1;32m-> 4335\u001b[1;33m         \u001b[1;32mreturn\u001b[0m \u001b[0mnp\u001b[0m\u001b[1;33m.\u001b[0m\u001b[0mvstack\u001b[0m\u001b[1;33m(\u001b[0m\u001b[0mto_stack\u001b[0m\u001b[1;33m)\u001b[0m\u001b[1;33m\u001b[0m\u001b[0m\n\u001b[0m\u001b[0;32m   4336\u001b[0m \u001b[1;33m\u001b[0m\u001b[0m\n\u001b[0;32m   4337\u001b[0m \u001b[1;33m\u001b[0m\u001b[0m\n",
      "\u001b[1;32mC:\\Users\\Chris De Villier\\Anaconda3\\lib\\site-packages\\numpy\\core\\shape_base.py\u001b[0m in \u001b[0;36mvstack\u001b[1;34m(tup)\u001b[0m\n\u001b[0;32m    228\u001b[0m \u001b[1;33m\u001b[0m\u001b[0m\n\u001b[0;32m    229\u001b[0m     \"\"\"\n\u001b[1;32m--> 230\u001b[1;33m     \u001b[1;32mreturn\u001b[0m \u001b[0m_nx\u001b[0m\u001b[1;33m.\u001b[0m\u001b[0mconcatenate\u001b[0m\u001b[1;33m(\u001b[0m\u001b[1;33m[\u001b[0m\u001b[0matleast_2d\u001b[0m\u001b[1;33m(\u001b[0m\u001b[0m_m\u001b[0m\u001b[1;33m)\u001b[0m \u001b[1;32mfor\u001b[0m \u001b[0m_m\u001b[0m \u001b[1;32min\u001b[0m \u001b[0mtup\u001b[0m\u001b[1;33m]\u001b[0m\u001b[1;33m,\u001b[0m \u001b[1;36m0\u001b[0m\u001b[1;33m)\u001b[0m\u001b[1;33m\u001b[0m\u001b[0m\n\u001b[0m\u001b[0;32m    231\u001b[0m \u001b[1;33m\u001b[0m\u001b[0m\n\u001b[0;32m    232\u001b[0m \u001b[1;32mdef\u001b[0m \u001b[0mhstack\u001b[0m\u001b[1;33m(\u001b[0m\u001b[0mtup\u001b[0m\u001b[1;33m)\u001b[0m\u001b[1;33m:\u001b[0m\u001b[1;33m\u001b[0m\u001b[0m\n",
      "\u001b[1;31mKeyboardInterrupt\u001b[0m: "
     ]
    }
   ],
   "source": [
    "preictal,interictal,err0,err1 = aggregateData()"
   ]
  },
  {
   "cell_type": "code",
   "execution_count": 7,
   "metadata": {
    "collapsed": true
   },
   "outputs": [],
   "source": []
  },
  {
   "cell_type": "code",
   "execution_count": 9,
   "metadata": {
    "collapsed": true
   },
   "outputs": [],
   "source": [
    "def oversamplingTargetClass(prei, inter):\n",
    "    \n",
    "    targetAmount = prei.shape[0] - inter.shape[0]\n",
    "    print('Target amount ',targetAmount)\n",
    "    ratioOfSampling = targetAmount//inter.shape[0]\n",
    "    interictalExtra = []\n",
    "    interictalExtra.append(inter)\n",
    "    print('ratioOfSampling ',ratioOfSampling)\n",
    "    if ratioOfSampling >=1:\n",
    "         for i in range(ratioOfSampling):\n",
    "                interictalExtra.append(inter)\n",
    "    interictal = pd.concat(interictalExtra,ignore_index=True)\n",
    "        \n",
    "    return interictal"
   ]
  },
  {
   "cell_type": "code",
   "execution_count": 10,
   "metadata": {
    "collapsed": true
   },
   "outputs": [],
   "source": [
    "def getFullData(prei,inter):\n",
    "    \n",
    "    #interictal = oversamplingTargetClass(prei, inter)\n",
    "    prei['label'] = 0\n",
    "    #interictal['label'] = 1\n",
    "    inter['label'] = 1\n",
    "    \n",
    "    #fulldata = [prei, interictal]\n",
    "    fulldata = [prei, inter]\n",
    "    df_fulldata = pd.concat(fulldata,ignore_index=True)\n",
    "    #print(prei.isnull().any().any() ,inter.isnull().any().any(), df_fulldata.isnull().any().any())\n",
    "    return df_fulldata"
   ]
  },
  {
   "cell_type": "code",
   "execution_count": null,
   "metadata": {
    "collapsed": false
   },
   "outputs": [],
   "source": [
    "preictal.shape,interictal.shape"
   ]
  },
  {
   "cell_type": "code",
   "execution_count": null,
   "metadata": {
    "collapsed": false
   },
   "outputs": [],
   "source": [
    "preictal.to_csv('preictal_patient3.csv')\n",
    "\n",
    "interictal.to_csv('interictal_patient3.csv')"
   ]
  },
  {
   "cell_type": "code",
   "execution_count": 10,
   "metadata": {
    "collapsed": true
   },
   "outputs": [],
   "source": [
    "preictal= pd.read_csv(r\"C:\\Users\\Chris De Villier\\Documents\\preictal_patient3.csv\")\n",
    "interictal= pd.read_csv(r\"C:\\Users\\Chris De Villier\\Documents\\interictal_patient3.csv\")\n",
    "#interictal_test= pd.read_csv(r\"C:\\Users\\Chris De Villier\\Documents\\interictal_test.csv\")"
   ]
  },
  {
   "cell_type": "code",
   "execution_count": null,
   "metadata": {
    "collapsed": true
   },
   "outputs": [],
   "source": [
    "#interictal = pd.concat([interictal_temp,interictal_test],axis=0,ignore_index=True)"
   ]
  },
  {
   "cell_type": "code",
   "execution_count": null,
   "metadata": {
    "collapsed": false
   },
   "outputs": [],
   "source": [
    "#interictal =interictal.reindex(np.random.permutation(interictal.index))"
   ]
  },
  {
   "cell_type": "code",
   "execution_count": null,
   "metadata": {
    "collapsed": true
   },
   "outputs": [],
   "source": [
    "#interictal= pd.read_csv(r\"C:\\Users\\Chris De Villier\\Documents\\interictal_patient1.csv\")"
   ]
  },
  {
   "cell_type": "code",
   "execution_count": 11,
   "metadata": {
    "collapsed": false
   },
   "outputs": [
    {
     "data": {
      "text/plain": [
       "((1342200, 24), (89400, 24))"
      ]
     },
     "execution_count": 11,
     "metadata": {},
     "output_type": "execute_result"
    }
   ],
   "source": [
    "preictal.shape,interictal.shape"
   ]
  },
  {
   "cell_type": "code",
   "execution_count": 35,
   "metadata": {
    "collapsed": false
   },
   "outputs": [
    {
     "name": "stderr",
     "output_type": "stream",
     "text": [
      "C:\\Users\\Chris De Villier\\Anaconda3\\lib\\site-packages\\ipykernel\\__main__.py:4: SettingWithCopyWarning: \n",
      "A value is trying to be set on a copy of a slice from a DataFrame.\n",
      "Try using .loc[row_indexer,col_indexer] = value instead\n",
      "\n",
      "See the caveats in the documentation: http://pandas.pydata.org/pandas-docs/stable/indexing.html#indexing-view-versus-copy\n",
      "C:\\Users\\Chris De Villier\\Anaconda3\\lib\\site-packages\\ipykernel\\__main__.py:6: SettingWithCopyWarning: \n",
      "A value is trying to be set on a copy of a slice from a DataFrame.\n",
      "Try using .loc[row_indexer,col_indexer] = value instead\n",
      "\n",
      "See the caveats in the documentation: http://pandas.pydata.org/pandas-docs/stable/indexing.html#indexing-view-versus-copy\n"
     ]
    }
   ],
   "source": [
    "df_fulldata = getFullData(preictal[1200000:1300000],interictal[:80000])"
   ]
  },
  {
   "cell_type": "code",
   "execution_count": 36,
   "metadata": {
    "collapsed": false
   },
   "outputs": [],
   "source": [
    "del df_fulldata['Unnamed: 0']"
   ]
  },
  {
   "cell_type": "code",
   "execution_count": 37,
   "metadata": {
    "collapsed": false
   },
   "outputs": [],
   "source": [
    "df_fulldata =df_fulldata.reindex(np.random.permutation(df_fulldata.index))"
   ]
  },
  {
   "cell_type": "code",
   "execution_count": 38,
   "metadata": {
    "collapsed": false
   },
   "outputs": [
    {
     "data": {
      "text/plain": [
       "(180000, 24)"
      ]
     },
     "execution_count": 38,
     "metadata": {},
     "output_type": "execute_result"
    }
   ],
   "source": [
    "df_fulldata.shape"
   ]
  },
  {
   "cell_type": "code",
   "execution_count": 39,
   "metadata": {
    "collapsed": true
   },
   "outputs": [],
   "source": [
    "X = np.array(df_fulldata.drop(['label'], 1))\n",
    "y = np.array(df_fulldata['label'])"
   ]
  },
  {
   "cell_type": "code",
   "execution_count": 40,
   "metadata": {
    "collapsed": true
   },
   "outputs": [],
   "source": [
    "X = preprocessing.scale(X)"
   ]
  },
  {
   "cell_type": "code",
   "execution_count": 41,
   "metadata": {
    "collapsed": true
   },
   "outputs": [],
   "source": [
    "X_train, X_test, y_train, y_test = cross_validation.train_test_split(X, y, test_size=0)"
   ]
  },
  {
   "cell_type": "code",
   "execution_count": 42,
   "metadata": {
    "collapsed": false
   },
   "outputs": [
    {
     "data": {
      "text/plain": [
       "KNeighborsClassifier(algorithm='auto', leaf_size=30, metric='minkowski',\n",
       "           metric_params=None, n_jobs=1, n_neighbors=5, p=2,\n",
       "           weights='uniform')"
      ]
     },
     "execution_count": 42,
     "metadata": {},
     "output_type": "execute_result"
    }
   ],
   "source": [
    "#GBC = GradientBoostingClassifier(n_estimators=500,max_depth=5,random_state=1)\n",
    "#GBC.fit(X_train,y_train)\n",
    "clf = svm.SVC()\n",
    "clf.fit(X_train,y_train)\n",
    "#rf = RandomForestClassifier()\n",
    "#rf.fit(X_train,y_train)\n",
    "knnclf = neighbors.KNeighborsClassifier()\n",
    "knnclf.fit(X_train,y_train)"
   ]
  },
  {
   "cell_type": "code",
   "execution_count": null,
   "metadata": {
    "collapsed": false
   },
   "outputs": [],
   "source": [
    "#joblib.dump(GBC,'patient3_model9_GBC.pkl')"
   ]
  },
  {
   "cell_type": "code",
   "execution_count": 43,
   "metadata": {
    "collapsed": false
   },
   "outputs": [
    {
     "data": {
      "text/plain": [
       "['patient3_model9_smv.pkl']"
      ]
     },
     "execution_count": 43,
     "metadata": {},
     "output_type": "execute_result"
    }
   ],
   "source": [
    "joblib.dump(clf,'patient3_model9_smv.pkl')"
   ]
  },
  {
   "cell_type": "code",
   "execution_count": 44,
   "metadata": {
    "collapsed": false
   },
   "outputs": [],
   "source": [
    "#joblib.dump(rf,'patient3_model9_rf.pkl')"
   ]
  },
  {
   "cell_type": "code",
   "execution_count": 45,
   "metadata": {
    "collapsed": false
   },
   "outputs": [
    {
     "data": {
      "text/plain": [
       "['patient3_model9_knnclf.pkl']"
      ]
     },
     "execution_count": 45,
     "metadata": {},
     "output_type": "execute_result"
    }
   ],
   "source": [
    "joblib.dump(knnclf,'patient3_model9_knnclf.pkl')"
   ]
  },
  {
   "cell_type": "markdown",
   "metadata": {},
   "source": [
    "GBC Prediction"
   ]
  },
  {
   "cell_type": "code",
   "execution_count": null,
   "metadata": {
    "collapsed": false
   },
   "outputs": [],
   "source": [
    "prediction = GBC.predict(X_test)\n",
    "confidence = GBC.score(X_test,y_test)\n",
    "confidence"
   ]
  },
  {
   "cell_type": "code",
   "execution_count": null,
   "metadata": {
    "collapsed": false
   },
   "outputs": [],
   "source": [
    "predict = np.array(prediction)\n",
    "results = stats.itemfreq(predict)\n",
    "results"
   ]
  },
  {
   "cell_type": "markdown",
   "metadata": {},
   "source": [
    "SVM prediction"
   ]
  },
  {
   "cell_type": "code",
   "execution_count": null,
   "metadata": {
    "collapsed": false
   },
   "outputs": [],
   "source": [
    "predictionsvm = clf.predict(X_test)\n",
    "confidencesvm = clf.score(X_test,y_test)\n",
    "confidencesvm"
   ]
  },
  {
   "cell_type": "code",
   "execution_count": null,
   "metadata": {
    "collapsed": false
   },
   "outputs": [],
   "source": [
    "predictsvm = np.array(predictionsvm)\n",
    "resultssvm = stats.itemfreq(predictsvm)\n",
    "resultssvm"
   ]
  },
  {
   "cell_type": "markdown",
   "metadata": {},
   "source": [
    "Random Forest"
   ]
  },
  {
   "cell_type": "code",
   "execution_count": null,
   "metadata": {
    "collapsed": false
   },
   "outputs": [],
   "source": [
    "predictionrf = rf.predict(X_test)\n",
    "confidencerf = rf.score(X_test,y_test)\n",
    "confidencerf"
   ]
  },
  {
   "cell_type": "code",
   "execution_count": null,
   "metadata": {
    "collapsed": false
   },
   "outputs": [],
   "source": [
    "predictrf = np.array(predictionrf)\n",
    "resultsrf = stats.itemfreq(predictrf)\n",
    "resultsrf"
   ]
  },
  {
   "cell_type": "markdown",
   "metadata": {},
   "source": [
    "Nearest Neigbour"
   ]
  },
  {
   "cell_type": "code",
   "execution_count": null,
   "metadata": {
    "collapsed": false
   },
   "outputs": [],
   "source": [
    "predictionknn = knnclf.predict(X_test)\n",
    "confidenceknn = knnclf.score(X_test,y_test)\n",
    "confidenceknn"
   ]
  },
  {
   "cell_type": "code",
   "execution_count": null,
   "metadata": {
    "collapsed": false
   },
   "outputs": [],
   "source": [
    "predictknn = np.array(predictionknn)\n",
    "resultsknn = stats.itemfreq(predictknn)\n",
    "resultsknn"
   ]
  },
  {
   "cell_type": "markdown",
   "metadata": {},
   "source": [
    "# Validation Set"
   ]
  },
  {
   "cell_type": "code",
   "execution_count": 46,
   "metadata": {
    "collapsed": false
   },
   "outputs": [
    {
     "name": "stderr",
     "output_type": "stream",
     "text": [
      "C:\\Users\\Chris De Villier\\Anaconda3\\lib\\site-packages\\ipykernel\\__main__.py:4: SettingWithCopyWarning: \n",
      "A value is trying to be set on a copy of a slice from a DataFrame.\n",
      "Try using .loc[row_indexer,col_indexer] = value instead\n",
      "\n",
      "See the caveats in the documentation: http://pandas.pydata.org/pandas-docs/stable/indexing.html#indexing-view-versus-copy\n",
      "C:\\Users\\Chris De Villier\\Anaconda3\\lib\\site-packages\\ipykernel\\__main__.py:6: SettingWithCopyWarning: \n",
      "A value is trying to be set on a copy of a slice from a DataFrame.\n",
      "Try using .loc[row_indexer,col_indexer] = value instead\n",
      "\n",
      "See the caveats in the documentation: http://pandas.pydata.org/pandas-docs/stable/indexing.html#indexing-view-versus-copy\n"
     ]
    },
    {
     "data": {
      "text/plain": [
       "(51600, 25)"
      ]
     },
     "execution_count": 46,
     "metadata": {},
     "output_type": "execute_result"
    }
   ],
   "source": [
    "df_fullvalidationdata = getFullData(preictal[1300000:],interictal[80000:])\n",
    "#df_fullvalidationdata = getFullData(preictal,interictal)\n",
    "df_fullvalidationdata.shape"
   ]
  },
  {
   "cell_type": "code",
   "execution_count": 47,
   "metadata": {
    "collapsed": true
   },
   "outputs": [],
   "source": [
    "del df_fullvalidationdata['Unnamed: 0']"
   ]
  },
  {
   "cell_type": "code",
   "execution_count": 48,
   "metadata": {
    "collapsed": true
   },
   "outputs": [],
   "source": [
    "df_fullvalidationdata =df_fullvalidationdata.reindex(np.random.permutation(df_fullvalidationdata.index))"
   ]
  },
  {
   "cell_type": "code",
   "execution_count": 49,
   "metadata": {
    "collapsed": true
   },
   "outputs": [],
   "source": [
    "X_val_test = np.array(df_fullvalidationdata.drop(['label'], 1))\n",
    "y_val_test = np.array(df_fullvalidationdata['label'])"
   ]
  },
  {
   "cell_type": "code",
   "execution_count": 50,
   "metadata": {
    "collapsed": true
   },
   "outputs": [],
   "source": [
    "X_val_test = preprocessing.scale(X_val_test)"
   ]
  },
  {
   "cell_type": "markdown",
   "metadata": {},
   "source": [
    "Validating GBC"
   ]
  },
  {
   "cell_type": "code",
   "execution_count": null,
   "metadata": {
    "collapsed": false
   },
   "outputs": [],
   "source": [
    "predictionVal = GBC.predict(X_val_test)\n",
    "confidenceVal = GBC.score(X_val_test,y_val_test)\n",
    "confidenceVal"
   ]
  },
  {
   "cell_type": "code",
   "execution_count": null,
   "metadata": {
    "collapsed": false
   },
   "outputs": [],
   "source": [
    "predictVal = np.array(predictionVal)\n",
    "resultsVal = stats.itemfreq(predictVal)\n",
    "resultsVal"
   ]
  },
  {
   "cell_type": "markdown",
   "metadata": {},
   "source": [
    "Validating SVM"
   ]
  },
  {
   "cell_type": "code",
   "execution_count": null,
   "metadata": {
    "collapsed": false
   },
   "outputs": [],
   "source": [
    "predictionValsvm = clf.predict(X_val_test)\n",
    "confidenceValsvm = clf.score(X_val_test,y_val_test)\n",
    "confidenceValsvm"
   ]
  },
  {
   "cell_type": "code",
   "execution_count": null,
   "metadata": {
    "collapsed": false
   },
   "outputs": [],
   "source": [
    "predictValsvm = np.array(predictionValsvm)\n",
    "resultsValsvm = stats.itemfreq(predictValsvm)\n",
    "resultsValsvm"
   ]
  },
  {
   "cell_type": "markdown",
   "metadata": {},
   "source": [
    "Validating Random Forest"
   ]
  },
  {
   "cell_type": "code",
   "execution_count": null,
   "metadata": {
    "collapsed": false
   },
   "outputs": [],
   "source": [
    "predictionValRF = rf.predict(X_val_test)\n",
    "confidenceValRF = rf.score(X_val_test,y_val_test)\n",
    "confidenceValRF"
   ]
  },
  {
   "cell_type": "code",
   "execution_count": null,
   "metadata": {
    "collapsed": false
   },
   "outputs": [],
   "source": [
    "predictValRF = np.array(predictionValRF)\n",
    "resultsValRF = stats.itemfreq(predictValRF)\n",
    "resultsValRF"
   ]
  },
  {
   "cell_type": "markdown",
   "metadata": {},
   "source": [
    "Validating K Nearest Neighbour"
   ]
  },
  {
   "cell_type": "code",
   "execution_count": null,
   "metadata": {
    "collapsed": false
   },
   "outputs": [],
   "source": [
    "predictionValknn = knnclf.predict(X_val_test)\n",
    "confidenceValknn = knnclf.score(X_val_test,y_val_test)\n",
    "confidenceValknn"
   ]
  },
  {
   "cell_type": "code",
   "execution_count": null,
   "metadata": {
    "collapsed": false
   },
   "outputs": [],
   "source": [
    "predictValknn = np.array(predictionValknn)\n",
    "resultsValknn = stats.itemfreq(predictValknn)\n",
    "resultsValknn"
   ]
  },
  {
   "cell_type": "code",
   "execution_count": null,
   "metadata": {
    "collapsed": false
   },
   "outputs": [],
   "source": [
    "resultsDF1 = pd.DataFrame(list(zip(predictionValRF,predictionVal,predictValknn,predictValsvm,\n",
    "                                  y_val_test)),columns=('RF','GBC','KNN','SVM','Y'))\n",
    "\n",
    "\n"
   ]
  },
  {
   "cell_type": "code",
   "execution_count": null,
   "metadata": {
    "collapsed": true
   },
   "outputs": [],
   "source": [
    "resultsDF2 = pd.DataFrame(list(zip(predictionValRF,predictionVal,predictValknn,predictValsvm,\n",
    "                                  y_val_test)),columns=('RF','GBC','KNN','SVM','Y'))\n"
   ]
  },
  {
   "cell_type": "code",
   "execution_count": null,
   "metadata": {
    "collapsed": false
   },
   "outputs": [],
   "source": [
    "resultsDF2[resultsDF2['Y'] == 0][658:]"
   ]
  },
  {
   "cell_type": "code",
   "execution_count": null,
   "metadata": {
    "collapsed": false
   },
   "outputs": [],
   "source": [
    "#resultsDF[resultsDF['KNN'] ==1]"
   ]
  },
  {
   "cell_type": "code",
   "execution_count": null,
   "metadata": {
    "collapsed": true
   },
   "outputs": [],
   "source": [
    "preictal_train= pd.read_csv(r\"C:\\Users\\Chris De Villier\\Documents\\test_preictal_patient1.csv\")\n",
    "interictal_train= pd.read_csv(r\"C:\\Users\\Chris De Villier\\Documents\\test_interictal_patient1.csv\")"
   ]
  },
  {
   "cell_type": "code",
   "execution_count": null,
   "metadata": {
    "collapsed": false
   },
   "outputs": [],
   "source": []
  },
  {
   "cell_type": "code",
   "execution_count": null,
   "metadata": {
    "collapsed": false
   },
   "outputs": [],
   "source": [
    "df_testdata = getFullData(preictal_train,interictal_train)\n",
    "#df_testdata = getFullData(preictal,interictal)\n",
    "df_testdata.shape"
   ]
  },
  {
   "cell_type": "code",
   "execution_count": null,
   "metadata": {
    "collapsed": false
   },
   "outputs": [],
   "source": [
    "#del df_testdata['Unnamed: 0']\n",
    "df_testdata.shape"
   ]
  },
  {
   "cell_type": "code",
   "execution_count": null,
   "metadata": {
    "collapsed": true
   },
   "outputs": [],
   "source": [
    "df_testdata =df_testdata.reindex(np.random.permutation(df_testdata.index))"
   ]
  },
  {
   "cell_type": "code",
   "execution_count": null,
   "metadata": {
    "collapsed": true
   },
   "outputs": [],
   "source": [
    "X = np.array(df_testdata.drop(['label'], 1))\n",
    "y = np.array(df_testdata['label'])"
   ]
  },
  {
   "cell_type": "code",
   "execution_count": null,
   "metadata": {
    "collapsed": true
   },
   "outputs": [],
   "source": [
    "X = preprocessing.scale(X)"
   ]
  },
  {
   "cell_type": "code",
   "execution_count": null,
   "metadata": {
    "collapsed": false
   },
   "outputs": [],
   "source": [
    "uncorrupted_files"
   ]
  },
  {
   "cell_type": "code",
   "execution_count": null,
   "metadata": {
    "collapsed": true
   },
   "outputs": [],
   "source": [
    "test_path = r\"C:\\Users\\Chris De Villier\\Documents\\test_2_new\""
   ]
  },
  {
   "cell_type": "code",
   "execution_count": null,
   "metadata": {
    "collapsed": false
   },
   "outputs": [],
   "source": [
    "testFileList = accessTestData(test_path)\n",
    "files,corrupted_files,uncorrupted_files = getFiles(testFileList,test_path)"
   ]
  },
  {
   "cell_type": "code",
   "execution_count": null,
   "metadata": {
    "collapsed": true
   },
   "outputs": [],
   "source": [
    "df_testdata = pd.concat(files)"
   ]
  },
  {
   "cell_type": "code",
   "execution_count": null,
   "metadata": {
    "collapsed": true
   },
   "outputs": [],
   "source": [
    "#df_testdata = np.array(df_testdata)\n",
    "X = preprocessing.scale(df_testdata)"
   ]
  },
  {
   "cell_type": "code",
   "execution_count": null,
   "metadata": {
    "collapsed": false
   },
   "outputs": [],
   "source": [
    "df_testdata.head()"
   ]
  },
  {
   "cell_type": "code",
   "execution_count": 51,
   "metadata": {
    "collapsed": false
   },
   "outputs": [],
   "source": [
    "\n",
    "# model1gbc = joblib.load('patient1_model1_GBC.pkl')\n",
    "# model1knn = joblib.load('patient1_model1_knnclf.pkl')\n",
    "# model1svm = joblib.load('patient1_model1_smv.pkl')\n",
    "# model1rf = joblib.load('patient1_model1_rf.pkl')\n",
    "\n",
    "# model2gbc = joblib.load('patient1_model2_GBC.pkl')\n",
    "# model2knn = joblib.load('patient1_model2_knnclf.pkl')\n",
    "# model2svm = joblib.load('patient1_model2_smv.pkl')\n",
    "# model2rf = joblib.load('patient1_model2_rf.pkl')\n",
    "\n",
    "# model3gbc = joblib.load('patient1_model3_GBC.pkl')\n",
    "# model3knn = joblib.load('patient1_model3_knnclf.pkl')\n",
    "# model3svm = joblib.load('patient1_model3_smv.pkl')\n",
    "# model3rf = joblib.load('patient1_model3_rf.pkl')\n",
    "\n",
    "# model4gbc = joblib.load('patient1_model4_GBC.pkl')\n",
    "# model4knn = joblib.load('patient1_model4_knnclf.pkl')\n",
    "# model4svm = joblib.load('patient1_model4_smv.pkl')\n",
    "# model4rf = joblib.load('patient1_model4_rf.pkl')\n",
    "                       \n",
    "# model5gbc = joblib.load('patient1_model5_GBC.pkl')\n",
    "# model5knn = joblib.load('patient1_model5_knnclf.pkl')\n",
    "# model5svm = joblib.load('patient1_model5_smv.pkl')\n",
    "# model5rf = joblib.load('patient1_model5_rf.pkl')\n",
    "                       \n",
    "# model6gbc = joblib.load('patient1_model6_GBC.pkl')\n",
    "# model6knn = joblib.load('patient1_model6_knnclf.pkl')\n",
    "# model6svm = joblib.load('patient1_model6_svm.pkl')\n",
    "\n",
    "# model7gbc = joblib.load('patient1_model7_GBC.pkl')\n",
    "# model7knn = joblib.load('patient1_model7_knnclf.pkl')\n",
    "# model7svm = joblib.load('patient1_model7_svm.pkl')\n",
    "\n",
    "model1 = joblib.load('patient3_model1_knnclf.pkl') \n",
    "model2 = joblib.load('patient3_model2_knnclf.pkl')\n",
    "model3 = joblib.load('patient3_model3_knnclf.pkl')\n",
    "model4 = joblib.load('patient3_model4_knnclf.pkl') \n",
    "model5 = joblib.load('patient3_model5_knnclf.pkl')\n",
    "model6 = joblib.load('patient3_model6_knnclf.pkl')\n",
    "model7 = joblib.load('patient3_model7_knnclf.pkl') \n",
    "model8 = joblib.load('patient3_model8_knnclf.pkl')\n",
    "model9 = joblib.load('patient3_model9_knnclf.pkl')\n",
    "model1svm = joblib.load('patient3_model1_smv.pkl') \n",
    "model2svm = joblib.load('patient3_model2_smv.pkl')\n",
    "model3svm = joblib.load('patient3_model3_smv.pkl')\n",
    "model4svm = joblib.load('patient3_model4_smv.pkl') \n",
    "model5svm = joblib.load('patient3_model5_smv.pkl')\n",
    "model6svm = joblib.load('patient3_model6_smv.pkl')\n",
    "model7svm = joblib.load('patient3_model7_smv.pkl') \n",
    "model8svm = joblib.load('patient3_model8_smv.pkl')\n",
    "model9svm = joblib.load('patient3_model9_smv.pkl')\n"
   ]
  },
  {
   "cell_type": "code",
   "execution_count": null,
   "metadata": {
    "collapsed": true
   },
   "outputs": [],
   "source": [
    "from sklearn.neighbors import NearestNeighbors"
   ]
  },
  {
   "cell_type": "code",
   "execution_count": 53,
   "metadata": {
    "collapsed": false
   },
   "outputs": [
    {
     "name": "stdout",
     "output_type": "stream",
     "text": [
      "0.955891472868\n",
      "[[    0 40556]\n",
      " [    1 11044]]\n"
     ]
    },
    {
     "data": {
      "text/plain": [
       "0.89631782945736438"
      ]
     },
     "execution_count": 53,
     "metadata": {},
     "output_type": "execute_result"
    }
   ],
   "source": [
    "svm1=model1svm.predict(X_val_test)\n",
    "print(model1svm.score(X_val_test,y_val_test))\n",
    "predict = np.array(svm1)\n",
    "print(stats.itemfreq(predict))\n",
    "svm2=model2svm.predict(X_val_test)\n",
    "model2svm.score(X_val_test,y_val_test)\n",
    "svm3=model3svm.predict(X_val_test)\n",
    "model3svm.score(X_val_test,y_val_test)\n",
    "svm4=model4svm.predict(X_val_test)\n",
    "model4svm.score(X_val_test,y_val_test)\n",
    "svm5=model5svm.predict(X_val_test)\n",
    "model5svm.score(X_val_test,y_val_test)\n",
    "svm6=model6svm.predict(X_val_test)\n",
    "model6svm.score(X_val_test,y_val_test)\n",
    "svm7=model7svm.predict(X_val_test)\n",
    "model7svm.score(X_val_test,y_val_test)\n",
    "svm8=model8svm.predict(X_val_test)\n",
    "model8svm.score(X_val_test,y_val_test)\n",
    "svm9=model9svm.predict(X_val_test)\n",
    "model9svm.score(X_val_test,y_val_test)"
   ]
  },
  {
   "cell_type": "code",
   "execution_count": 58,
   "metadata": {
    "collapsed": false
   },
   "outputs": [
    {
     "name": "stdout",
     "output_type": "stream",
     "text": [
      "0.97988372093\n",
      "[[    0 41162]\n",
      " [    1 10438]]\n",
      "0.958798449612\n",
      "0.930096899225\n",
      "0.926802325581\n",
      "0.928275193798\n",
      "0.921647286822\n",
      "0.914399224806\n",
      "0.927635658915\n",
      "0.924612403101\n"
     ]
    }
   ],
   "source": [
    "knn1=model1.predict(X_val_test)\n",
    "print(model1.score(X_val_test,y_val_test))\n",
    "predict = np.array(knn1)\n",
    "print(stats.itemfreq(predict))\n",
    "knn2=model2.predict(X_val_test)\n",
    "print(model2.score(X_val_test,y_val_test))\n",
    "knn3=model3.predict(X_val_test)\n",
    "print(model3.score(X_val_test,y_val_test))\n",
    "knn4=model4.predict(X_val_test)\n",
    "print(model4.score(X_val_test,y_val_test))\n",
    "knn5=model5.predict(X_val_test)\n",
    "print(model5.score(X_val_test,y_val_test))\n",
    "knn6=model6.predict(X_val_test)\n",
    "print(model6.score(X_val_test,y_val_test))\n",
    "knn7=model7.predict(X_val_test)\n",
    "print(model7.score(X_val_test,y_val_test))\n",
    "knn8=model8.predict(X_val_test)\n",
    "print(model8.score(X_val_test,y_val_test))\n",
    "knn9=model9.predict(X_val_test)\n",
    "print(model9.score(X_val_test,y_val_test))"
   ]
  },
  {
   "cell_type": "code",
   "execution_count": 77,
   "metadata": {
    "collapsed": false
   },
   "outputs": [],
   "source": [
    "resultsKnn = pd.DataFrame(list(zip(knn1,knn2,knn3,knn4,knn5,knn6,knn7,knn8,knn9,y_val_test)),\n",
    "                         columns=('knn1','knn2','knn3','knn4','knn5','knn6','knn7','knn8','knn9','y')) #add y for training dataset\n",
    "resultsKnn['predictionknn'] = round(resultsKnn[['knn1','knn2','knn3','knn4','knn5','knn6','knn7','knn8','knn9']].mean(axis=1))"
   ]
  },
  {
   "cell_type": "code",
   "execution_count": 78,
   "metadata": {
    "collapsed": false
   },
   "outputs": [],
   "source": [
    "resultsSvm = pd.DataFrame(list(zip(svm1,svm2,svm3,svm4,svm5,svm6,svm7,svm8,svm9,y_val_test)),\n",
    "                         columns=('svm1','svm2','svm3','svm4','svm5','svm6','svm7','svm8','svm9','y')) #add y for training dataset\n",
    "resultsSvm['prediction'] = round(resultsSvm[['svm1','svm2','svm3','svm4','svm5','svm6','svm7','svm8','svm9']].mean(axis=1))"
   ]
  },
  {
   "cell_type": "code",
   "execution_count": 73,
   "metadata": {
    "collapsed": true
   },
   "outputs": [],
   "source": [
    "resultsall = pd.DataFrame(list(zip(knn1,knn2,knn3,knn4,knn5,knn6,knn7,knn8,knn9,svm1,svm2,svm3,svm4,svm5,svm6,svm7,svm8,svm9,y_val_test)),\n",
    "                         columns=('knn1','knn2','knn3','knn4','knn5','knn6','knn7','knn8','knn9','svm1','svm2','svm3','svm4','svm5','svm6','svm7','svm8','svm9','y')) #add y for training dataset\n",
    "resultsall['prediction'] = round(resultsall[['knn1','knn2','knn3','knn4','knn5','knn6','knn7','knn8','knn9','svm1','svm2','svm3','svm4','svm5','svm6','svm7','svm8','svm9']].mean(axis=1))"
   ]
  },
  {
   "cell_type": "code",
   "execution_count": 85,
   "metadata": {
    "collapsed": true
   },
   "outputs": [],
   "source": [
    "resultsSvm.to_csv('resultsSvm_patient3.csv')\n",
    "\n",
    "resultsKnn.to_csv('resultsKnn_patient3.csv')"
   ]
  },
  {
   "cell_type": "code",
   "execution_count": 2,
   "metadata": {
    "collapsed": true
   },
   "outputs": [],
   "source": [
    "resultsSvm= pd.read_csv(r\"C:\\Users\\Chris De Villier\\Documents\\resultsSvm_patient3.csv\")\n",
    "resultsKnn= pd.read_csv(r\"C:\\Users\\Chris De Villier\\Documents\\resultsKnn_patient3.csv\")"
   ]
  },
  {
   "cell_type": "code",
   "execution_count": 16,
   "metadata": {
    "collapsed": false
   },
   "outputs": [],
   "source": [
    "resultsKnn = resultsKnn.drop(['Unnamed: 0'], 1)\n",
    "resultsSvm = resultsSvm.drop(['Unnamed: 0'], 1)"
   ]
  },
  {
   "cell_type": "code",
   "execution_count": 19,
   "metadata": {
    "collapsed": false
   },
   "outputs": [],
   "source": [
    "resultsall = pd.concat([resultsKnn,resultsSvm],axis = 1)"
   ]
  },
  {
   "cell_type": "code",
   "execution_count": 29,
   "metadata": {
    "collapsed": false
   },
   "outputs": [],
   "source": [
    "resultsall = resultsall.drop(['predictionknn','prediction','y'], 1)"
   ]
  },
  {
   "cell_type": "code",
   "execution_count": 31,
   "metadata": {
    "collapsed": false
   },
   "outputs": [
    {
     "name": "stderr",
     "output_type": "stream",
     "text": [
      "C:\\Users\\Chris De Villier\\Anaconda3\\lib\\site-packages\\ipykernel\\__main__.py:1: SettingWithCopyWarning: \n",
      "A value is trying to be set on a copy of a slice from a DataFrame.\n",
      "Try using .loc[row_indexer,col_indexer] = value instead\n",
      "\n",
      "See the caveats in the documentation: http://pandas.pydata.org/pandas-docs/stable/indexing.html#indexing-view-versus-copy\n",
      "  if __name__ == '__main__':\n"
     ]
    }
   ],
   "source": [
    "resultsall['prediction'] = round(resultsall[['knn1','knn2','knn3','knn4','knn5','knn6','knn7','knn8','knn9','svm1','svm2','svm3','svm4','svm5','svm6','svm7','svm8','svm9']].mean(axis=1))"
   ]
  },
  {
   "cell_type": "code",
   "execution_count": 34,
   "metadata": {
    "collapsed": false
   },
   "outputs": [
    {
     "name": "stderr",
     "output_type": "stream",
     "text": [
      "C:\\Users\\Chris De Villier\\Anaconda3\\lib\\site-packages\\ipykernel\\__main__.py:1: SettingWithCopyWarning: \n",
      "A value is trying to be set on a copy of a slice from a DataFrame.\n",
      "Try using .loc[row_indexer,col_indexer] = value instead\n",
      "\n",
      "See the caveats in the documentation: http://pandas.pydata.org/pandas-docs/stable/indexing.html#indexing-view-versus-copy\n",
      "  if __name__ == '__main__':\n"
     ]
    }
   ],
   "source": [
    "resultsall['y'] = resultsKnn['y']"
   ]
  },
  {
   "cell_type": "code",
   "execution_count": 49,
   "metadata": {
    "collapsed": false
   },
   "outputs": [
    {
     "data": {
      "text/html": [
       "<div>\n",
       "<table border=\"1\" class=\"dataframe\">\n",
       "  <thead>\n",
       "    <tr style=\"text-align: right;\">\n",
       "      <th></th>\n",
       "      <th>knn1</th>\n",
       "      <th>knn2</th>\n",
       "      <th>knn3</th>\n",
       "      <th>knn4</th>\n",
       "      <th>knn5</th>\n",
       "      <th>knn6</th>\n",
       "      <th>knn7</th>\n",
       "      <th>knn8</th>\n",
       "      <th>knn9</th>\n",
       "      <th>y</th>\n",
       "      <th>predictionknn</th>\n",
       "    </tr>\n",
       "  </thead>\n",
       "  <tbody>\n",
       "    <tr>\n",
       "      <th>0</th>\n",
       "      <td>0</td>\n",
       "      <td>0</td>\n",
       "      <td>0</td>\n",
       "      <td>0</td>\n",
       "      <td>0</td>\n",
       "      <td>0</td>\n",
       "      <td>0</td>\n",
       "      <td>0</td>\n",
       "      <td>0</td>\n",
       "      <td>0</td>\n",
       "      <td>0.0</td>\n",
       "    </tr>\n",
       "    <tr>\n",
       "      <th>1</th>\n",
       "      <td>0</td>\n",
       "      <td>0</td>\n",
       "      <td>0</td>\n",
       "      <td>0</td>\n",
       "      <td>0</td>\n",
       "      <td>0</td>\n",
       "      <td>0</td>\n",
       "      <td>0</td>\n",
       "      <td>0</td>\n",
       "      <td>0</td>\n",
       "      <td>0.0</td>\n",
       "    </tr>\n",
       "    <tr>\n",
       "      <th>2</th>\n",
       "      <td>0</td>\n",
       "      <td>0</td>\n",
       "      <td>0</td>\n",
       "      <td>0</td>\n",
       "      <td>0</td>\n",
       "      <td>0</td>\n",
       "      <td>0</td>\n",
       "      <td>0</td>\n",
       "      <td>0</td>\n",
       "      <td>0</td>\n",
       "      <td>0.0</td>\n",
       "    </tr>\n",
       "    <tr>\n",
       "      <th>3</th>\n",
       "      <td>0</td>\n",
       "      <td>0</td>\n",
       "      <td>0</td>\n",
       "      <td>0</td>\n",
       "      <td>0</td>\n",
       "      <td>0</td>\n",
       "      <td>1</td>\n",
       "      <td>0</td>\n",
       "      <td>0</td>\n",
       "      <td>0</td>\n",
       "      <td>0.0</td>\n",
       "    </tr>\n",
       "    <tr>\n",
       "      <th>4</th>\n",
       "      <td>0</td>\n",
       "      <td>0</td>\n",
       "      <td>0</td>\n",
       "      <td>0</td>\n",
       "      <td>0</td>\n",
       "      <td>0</td>\n",
       "      <td>0</td>\n",
       "      <td>0</td>\n",
       "      <td>0</td>\n",
       "      <td>0</td>\n",
       "      <td>0.0</td>\n",
       "    </tr>\n",
       "  </tbody>\n",
       "</table>\n",
       "</div>"
      ],
      "text/plain": [
       "   knn1  knn2  knn3  knn4  knn5  knn6  knn7  knn8  knn9  y  predictionknn\n",
       "0     0     0     0     0     0     0     0     0     0  0            0.0\n",
       "1     0     0     0     0     0     0     0     0     0  0            0.0\n",
       "2     0     0     0     0     0     0     0     0     0  0            0.0\n",
       "3     0     0     0     0     0     0     1     0     0  0            0.0\n",
       "4     0     0     0     0     0     0     0     0     0  0            0.0"
      ]
     },
     "execution_count": 49,
     "metadata": {},
     "output_type": "execute_result"
    }
   ],
   "source": [
    "resultsKnn.head()"
   ]
  },
  {
   "cell_type": "code",
   "execution_count": 18,
   "metadata": {
    "collapsed": false
   },
   "outputs": [
    {
     "data": {
      "text/html": [
       "<div>\n",
       "<table border=\"1\" class=\"dataframe\">\n",
       "  <thead>\n",
       "    <tr style=\"text-align: right;\">\n",
       "      <th></th>\n",
       "      <th>svm1</th>\n",
       "      <th>svm2</th>\n",
       "      <th>svm3</th>\n",
       "      <th>svm4</th>\n",
       "      <th>svm5</th>\n",
       "      <th>svm6</th>\n",
       "      <th>svm7</th>\n",
       "      <th>svm8</th>\n",
       "      <th>svm9</th>\n",
       "      <th>y</th>\n",
       "      <th>prediction</th>\n",
       "    </tr>\n",
       "  </thead>\n",
       "  <tbody>\n",
       "    <tr>\n",
       "      <th>0</th>\n",
       "      <td>0</td>\n",
       "      <td>0</td>\n",
       "      <td>0</td>\n",
       "      <td>0</td>\n",
       "      <td>0</td>\n",
       "      <td>0</td>\n",
       "      <td>0</td>\n",
       "      <td>0</td>\n",
       "      <td>0</td>\n",
       "      <td>0</td>\n",
       "      <td>0.0</td>\n",
       "    </tr>\n",
       "    <tr>\n",
       "      <th>1</th>\n",
       "      <td>0</td>\n",
       "      <td>0</td>\n",
       "      <td>0</td>\n",
       "      <td>0</td>\n",
       "      <td>0</td>\n",
       "      <td>0</td>\n",
       "      <td>0</td>\n",
       "      <td>0</td>\n",
       "      <td>0</td>\n",
       "      <td>0</td>\n",
       "      <td>0.0</td>\n",
       "    </tr>\n",
       "    <tr>\n",
       "      <th>2</th>\n",
       "      <td>0</td>\n",
       "      <td>0</td>\n",
       "      <td>0</td>\n",
       "      <td>0</td>\n",
       "      <td>0</td>\n",
       "      <td>0</td>\n",
       "      <td>0</td>\n",
       "      <td>0</td>\n",
       "      <td>0</td>\n",
       "      <td>0</td>\n",
       "      <td>0.0</td>\n",
       "    </tr>\n",
       "    <tr>\n",
       "      <th>3</th>\n",
       "      <td>0</td>\n",
       "      <td>0</td>\n",
       "      <td>1</td>\n",
       "      <td>1</td>\n",
       "      <td>1</td>\n",
       "      <td>1</td>\n",
       "      <td>1</td>\n",
       "      <td>0</td>\n",
       "      <td>0</td>\n",
       "      <td>0</td>\n",
       "      <td>1.0</td>\n",
       "    </tr>\n",
       "    <tr>\n",
       "      <th>4</th>\n",
       "      <td>0</td>\n",
       "      <td>0</td>\n",
       "      <td>0</td>\n",
       "      <td>0</td>\n",
       "      <td>0</td>\n",
       "      <td>0</td>\n",
       "      <td>0</td>\n",
       "      <td>0</td>\n",
       "      <td>0</td>\n",
       "      <td>0</td>\n",
       "      <td>0.0</td>\n",
       "    </tr>\n",
       "  </tbody>\n",
       "</table>\n",
       "</div>"
      ],
      "text/plain": [
       "   svm1  svm2  svm3  svm4  svm5  svm6  svm7  svm8  svm9  y  prediction\n",
       "0     0     0     0     0     0     0     0     0     0  0         0.0\n",
       "1     0     0     0     0     0     0     0     0     0  0         0.0\n",
       "2     0     0     0     0     0     0     0     0     0  0         0.0\n",
       "3     0     0     1     1     1     1     1     0     0  0         1.0\n",
       "4     0     0     0     0     0     0     0     0     0  0         0.0"
      ]
     },
     "execution_count": 18,
     "metadata": {},
     "output_type": "execute_result"
    }
   ],
   "source": [
    "resultsSvm.head()"
   ]
  },
  {
   "cell_type": "code",
   "execution_count": 21,
   "metadata": {
    "collapsed": true
   },
   "outputs": [],
   "source": [
    "wrong_resultsKnn = resultsKnn[resultsKnn['y'] != resultsKnn['predictionknn']]"
   ]
  },
  {
   "cell_type": "code",
   "execution_count": 22,
   "metadata": {
    "collapsed": false
   },
   "outputs": [
    {
     "data": {
      "text/html": [
       "<div>\n",
       "<table border=\"1\" class=\"dataframe\">\n",
       "  <thead>\n",
       "    <tr style=\"text-align: right;\">\n",
       "      <th></th>\n",
       "      <th>knn1</th>\n",
       "      <th>knn2</th>\n",
       "      <th>knn3</th>\n",
       "      <th>knn4</th>\n",
       "      <th>knn5</th>\n",
       "      <th>knn6</th>\n",
       "      <th>knn7</th>\n",
       "      <th>knn8</th>\n",
       "      <th>knn9</th>\n",
       "      <th>y</th>\n",
       "      <th>predictionknn</th>\n",
       "    </tr>\n",
       "  </thead>\n",
       "  <tbody>\n",
       "    <tr>\n",
       "      <th>32</th>\n",
       "      <td>0</td>\n",
       "      <td>1</td>\n",
       "      <td>1</td>\n",
       "      <td>1</td>\n",
       "      <td>1</td>\n",
       "      <td>1</td>\n",
       "      <td>1</td>\n",
       "      <td>0</td>\n",
       "      <td>0</td>\n",
       "      <td>0</td>\n",
       "      <td>1.0</td>\n",
       "    </tr>\n",
       "    <tr>\n",
       "      <th>51</th>\n",
       "      <td>1</td>\n",
       "      <td>0</td>\n",
       "      <td>1</td>\n",
       "      <td>1</td>\n",
       "      <td>1</td>\n",
       "      <td>1</td>\n",
       "      <td>1</td>\n",
       "      <td>0</td>\n",
       "      <td>0</td>\n",
       "      <td>0</td>\n",
       "      <td>1.0</td>\n",
       "    </tr>\n",
       "    <tr>\n",
       "      <th>56</th>\n",
       "      <td>0</td>\n",
       "      <td>0</td>\n",
       "      <td>0</td>\n",
       "      <td>0</td>\n",
       "      <td>1</td>\n",
       "      <td>1</td>\n",
       "      <td>1</td>\n",
       "      <td>1</td>\n",
       "      <td>1</td>\n",
       "      <td>0</td>\n",
       "      <td>1.0</td>\n",
       "    </tr>\n",
       "    <tr>\n",
       "      <th>63</th>\n",
       "      <td>0</td>\n",
       "      <td>1</td>\n",
       "      <td>1</td>\n",
       "      <td>1</td>\n",
       "      <td>1</td>\n",
       "      <td>1</td>\n",
       "      <td>1</td>\n",
       "      <td>1</td>\n",
       "      <td>1</td>\n",
       "      <td>0</td>\n",
       "      <td>1.0</td>\n",
       "    </tr>\n",
       "    <tr>\n",
       "      <th>82</th>\n",
       "      <td>1</td>\n",
       "      <td>1</td>\n",
       "      <td>1</td>\n",
       "      <td>1</td>\n",
       "      <td>1</td>\n",
       "      <td>1</td>\n",
       "      <td>0</td>\n",
       "      <td>1</td>\n",
       "      <td>0</td>\n",
       "      <td>0</td>\n",
       "      <td>1.0</td>\n",
       "    </tr>\n",
       "  </tbody>\n",
       "</table>\n",
       "</div>"
      ],
      "text/plain": [
       "    knn1  knn2  knn3  knn4  knn5  knn6  knn7  knn8  knn9  y  predictionknn\n",
       "32     0     1     1     1     1     1     1     0     0  0            1.0\n",
       "51     1     0     1     1     1     1     1     0     0  0            1.0\n",
       "56     0     0     0     0     1     1     1     1     1  0            1.0\n",
       "63     0     1     1     1     1     1     1     1     1  0            1.0\n",
       "82     1     1     1     1     1     1     0     1     0  0            1.0"
      ]
     },
     "execution_count": 22,
     "metadata": {},
     "output_type": "execute_result"
    }
   ],
   "source": [
    "wrong_resultsKnn.head()"
   ]
  },
  {
   "cell_type": "code",
   "execution_count": 23,
   "metadata": {
    "collapsed": false
   },
   "outputs": [
    {
     "data": {
      "text/plain": [
       "93.77906976744185"
      ]
     },
     "execution_count": 23,
     "metadata": {},
     "output_type": "execute_result"
    }
   ],
   "source": [
    "results_percentageknn = 100-(len(wrong_resultsKnn)/(len(resultsKnn)/100))\n",
    "results_percentageknn"
   ]
  },
  {
   "cell_type": "code",
   "execution_count": 25,
   "metadata": {
    "collapsed": false
   },
   "outputs": [
    {
     "data": {
      "text/html": [
       "<div>\n",
       "<table border=\"1\" class=\"dataframe\">\n",
       "  <thead>\n",
       "    <tr style=\"text-align: right;\">\n",
       "      <th></th>\n",
       "      <th>svm1</th>\n",
       "      <th>svm2</th>\n",
       "      <th>svm3</th>\n",
       "      <th>svm4</th>\n",
       "      <th>svm5</th>\n",
       "      <th>svm6</th>\n",
       "      <th>svm7</th>\n",
       "      <th>svm8</th>\n",
       "      <th>svm9</th>\n",
       "      <th>y</th>\n",
       "      <th>prediction</th>\n",
       "    </tr>\n",
       "  </thead>\n",
       "  <tbody>\n",
       "    <tr>\n",
       "      <th>3</th>\n",
       "      <td>0</td>\n",
       "      <td>0</td>\n",
       "      <td>1</td>\n",
       "      <td>1</td>\n",
       "      <td>1</td>\n",
       "      <td>1</td>\n",
       "      <td>1</td>\n",
       "      <td>0</td>\n",
       "      <td>0</td>\n",
       "      <td>0</td>\n",
       "      <td>1.0</td>\n",
       "    </tr>\n",
       "    <tr>\n",
       "      <th>19</th>\n",
       "      <td>1</td>\n",
       "      <td>1</td>\n",
       "      <td>1</td>\n",
       "      <td>1</td>\n",
       "      <td>1</td>\n",
       "      <td>1</td>\n",
       "      <td>1</td>\n",
       "      <td>0</td>\n",
       "      <td>0</td>\n",
       "      <td>0</td>\n",
       "      <td>1.0</td>\n",
       "    </tr>\n",
       "    <tr>\n",
       "      <th>22</th>\n",
       "      <td>0</td>\n",
       "      <td>0</td>\n",
       "      <td>1</td>\n",
       "      <td>1</td>\n",
       "      <td>1</td>\n",
       "      <td>1</td>\n",
       "      <td>1</td>\n",
       "      <td>1</td>\n",
       "      <td>0</td>\n",
       "      <td>0</td>\n",
       "      <td>1.0</td>\n",
       "    </tr>\n",
       "    <tr>\n",
       "      <th>32</th>\n",
       "      <td>1</td>\n",
       "      <td>1</td>\n",
       "      <td>1</td>\n",
       "      <td>1</td>\n",
       "      <td>1</td>\n",
       "      <td>1</td>\n",
       "      <td>1</td>\n",
       "      <td>1</td>\n",
       "      <td>1</td>\n",
       "      <td>0</td>\n",
       "      <td>1.0</td>\n",
       "    </tr>\n",
       "    <tr>\n",
       "      <th>51</th>\n",
       "      <td>0</td>\n",
       "      <td>0</td>\n",
       "      <td>1</td>\n",
       "      <td>1</td>\n",
       "      <td>1</td>\n",
       "      <td>1</td>\n",
       "      <td>1</td>\n",
       "      <td>0</td>\n",
       "      <td>0</td>\n",
       "      <td>0</td>\n",
       "      <td>1.0</td>\n",
       "    </tr>\n",
       "  </tbody>\n",
       "</table>\n",
       "</div>"
      ],
      "text/plain": [
       "    svm1  svm2  svm3  svm4  svm5  svm6  svm7  svm8  svm9  y  prediction\n",
       "3      0     0     1     1     1     1     1     0     0  0         1.0\n",
       "19     1     1     1     1     1     1     1     0     0  0         1.0\n",
       "22     0     0     1     1     1     1     1     1     0  0         1.0\n",
       "32     1     1     1     1     1     1     1     1     1  0         1.0\n",
       "51     0     0     1     1     1     1     1     0     0  0         1.0"
      ]
     },
     "execution_count": 25,
     "metadata": {},
     "output_type": "execute_result"
    }
   ],
   "source": [
    "wrong_resultssvm = resultsSvm[resultsSvm['y'] != resultsSvm['prediction']]\n",
    "wrong_resultssvm.head()"
   ]
  },
  {
   "cell_type": "code",
   "execution_count": 8,
   "metadata": {
    "collapsed": false
   },
   "outputs": [
    {
     "data": {
      "text/plain": [
       "91.68023255813954"
      ]
     },
     "execution_count": 8,
     "metadata": {},
     "output_type": "execute_result"
    }
   ],
   "source": [
    "results_percentagesvm = 100-(len(wrong_resultssvm)/(len(resultsSvm)/100))\n",
    "results_percentagesvm"
   ]
  },
  {
   "cell_type": "code",
   "execution_count": 35,
   "metadata": {
    "collapsed": false
   },
   "outputs": [
    {
     "data": {
      "text/html": [
       "<div>\n",
       "<table border=\"1\" class=\"dataframe\">\n",
       "  <thead>\n",
       "    <tr style=\"text-align: right;\">\n",
       "      <th></th>\n",
       "      <th>knn1</th>\n",
       "      <th>knn2</th>\n",
       "      <th>knn3</th>\n",
       "      <th>knn4</th>\n",
       "      <th>knn5</th>\n",
       "      <th>knn6</th>\n",
       "      <th>knn7</th>\n",
       "      <th>knn8</th>\n",
       "      <th>knn9</th>\n",
       "      <th>svm1</th>\n",
       "      <th>svm2</th>\n",
       "      <th>svm3</th>\n",
       "      <th>svm4</th>\n",
       "      <th>svm5</th>\n",
       "      <th>svm6</th>\n",
       "      <th>svm7</th>\n",
       "      <th>svm8</th>\n",
       "      <th>svm9</th>\n",
       "      <th>prediction</th>\n",
       "      <th>y</th>\n",
       "    </tr>\n",
       "  </thead>\n",
       "  <tbody>\n",
       "    <tr>\n",
       "      <th>0</th>\n",
       "      <td>0</td>\n",
       "      <td>0</td>\n",
       "      <td>0</td>\n",
       "      <td>0</td>\n",
       "      <td>0</td>\n",
       "      <td>0</td>\n",
       "      <td>0</td>\n",
       "      <td>0</td>\n",
       "      <td>0</td>\n",
       "      <td>0</td>\n",
       "      <td>0</td>\n",
       "      <td>0</td>\n",
       "      <td>0</td>\n",
       "      <td>0</td>\n",
       "      <td>0</td>\n",
       "      <td>0</td>\n",
       "      <td>0</td>\n",
       "      <td>0</td>\n",
       "      <td>0.0</td>\n",
       "      <td>0</td>\n",
       "    </tr>\n",
       "    <tr>\n",
       "      <th>1</th>\n",
       "      <td>0</td>\n",
       "      <td>0</td>\n",
       "      <td>0</td>\n",
       "      <td>0</td>\n",
       "      <td>0</td>\n",
       "      <td>0</td>\n",
       "      <td>0</td>\n",
       "      <td>0</td>\n",
       "      <td>0</td>\n",
       "      <td>0</td>\n",
       "      <td>0</td>\n",
       "      <td>0</td>\n",
       "      <td>0</td>\n",
       "      <td>0</td>\n",
       "      <td>0</td>\n",
       "      <td>0</td>\n",
       "      <td>0</td>\n",
       "      <td>0</td>\n",
       "      <td>0.0</td>\n",
       "      <td>0</td>\n",
       "    </tr>\n",
       "    <tr>\n",
       "      <th>2</th>\n",
       "      <td>0</td>\n",
       "      <td>0</td>\n",
       "      <td>0</td>\n",
       "      <td>0</td>\n",
       "      <td>0</td>\n",
       "      <td>0</td>\n",
       "      <td>0</td>\n",
       "      <td>0</td>\n",
       "      <td>0</td>\n",
       "      <td>0</td>\n",
       "      <td>0</td>\n",
       "      <td>0</td>\n",
       "      <td>0</td>\n",
       "      <td>0</td>\n",
       "      <td>0</td>\n",
       "      <td>0</td>\n",
       "      <td>0</td>\n",
       "      <td>0</td>\n",
       "      <td>0.0</td>\n",
       "      <td>0</td>\n",
       "    </tr>\n",
       "    <tr>\n",
       "      <th>3</th>\n",
       "      <td>0</td>\n",
       "      <td>0</td>\n",
       "      <td>0</td>\n",
       "      <td>0</td>\n",
       "      <td>0</td>\n",
       "      <td>0</td>\n",
       "      <td>1</td>\n",
       "      <td>0</td>\n",
       "      <td>0</td>\n",
       "      <td>0</td>\n",
       "      <td>0</td>\n",
       "      <td>1</td>\n",
       "      <td>1</td>\n",
       "      <td>1</td>\n",
       "      <td>1</td>\n",
       "      <td>1</td>\n",
       "      <td>0</td>\n",
       "      <td>0</td>\n",
       "      <td>0.0</td>\n",
       "      <td>0</td>\n",
       "    </tr>\n",
       "    <tr>\n",
       "      <th>4</th>\n",
       "      <td>0</td>\n",
       "      <td>0</td>\n",
       "      <td>0</td>\n",
       "      <td>0</td>\n",
       "      <td>0</td>\n",
       "      <td>0</td>\n",
       "      <td>0</td>\n",
       "      <td>0</td>\n",
       "      <td>0</td>\n",
       "      <td>0</td>\n",
       "      <td>0</td>\n",
       "      <td>0</td>\n",
       "      <td>0</td>\n",
       "      <td>0</td>\n",
       "      <td>0</td>\n",
       "      <td>0</td>\n",
       "      <td>0</td>\n",
       "      <td>0</td>\n",
       "      <td>0.0</td>\n",
       "      <td>0</td>\n",
       "    </tr>\n",
       "  </tbody>\n",
       "</table>\n",
       "</div>"
      ],
      "text/plain": [
       "   knn1  knn2  knn3  knn4  knn5  knn6  knn7  knn8  knn9  svm1  svm2  svm3  \\\n",
       "0     0     0     0     0     0     0     0     0     0     0     0     0   \n",
       "1     0     0     0     0     0     0     0     0     0     0     0     0   \n",
       "2     0     0     0     0     0     0     0     0     0     0     0     0   \n",
       "3     0     0     0     0     0     0     1     0     0     0     0     1   \n",
       "4     0     0     0     0     0     0     0     0     0     0     0     0   \n",
       "\n",
       "   svm4  svm5  svm6  svm7  svm8  svm9  prediction  y  \n",
       "0     0     0     0     0     0     0         0.0  0  \n",
       "1     0     0     0     0     0     0         0.0  0  \n",
       "2     0     0     0     0     0     0         0.0  0  \n",
       "3     1     1     1     1     0     0         0.0  0  \n",
       "4     0     0     0     0     0     0         0.0  0  "
      ]
     },
     "execution_count": 35,
     "metadata": {},
     "output_type": "execute_result"
    }
   ],
   "source": [
    "resultsall.head()"
   ]
  },
  {
   "cell_type": "code",
   "execution_count": 38,
   "metadata": {
    "collapsed": false
   },
   "outputs": [
    {
     "data": {
      "text/html": [
       "<div>\n",
       "<table border=\"1\" class=\"dataframe\">\n",
       "  <thead>\n",
       "    <tr style=\"text-align: right;\">\n",
       "      <th></th>\n",
       "      <th>knn1</th>\n",
       "      <th>knn2</th>\n",
       "      <th>knn3</th>\n",
       "      <th>knn4</th>\n",
       "      <th>knn5</th>\n",
       "      <th>knn6</th>\n",
       "      <th>knn7</th>\n",
       "      <th>knn8</th>\n",
       "      <th>knn9</th>\n",
       "      <th>svm1</th>\n",
       "      <th>svm2</th>\n",
       "      <th>svm3</th>\n",
       "      <th>svm4</th>\n",
       "      <th>svm5</th>\n",
       "      <th>svm6</th>\n",
       "      <th>svm7</th>\n",
       "      <th>svm8</th>\n",
       "      <th>svm9</th>\n",
       "      <th>prediction</th>\n",
       "      <th>y</th>\n",
       "    </tr>\n",
       "  </thead>\n",
       "  <tbody>\n",
       "    <tr>\n",
       "      <th>22</th>\n",
       "      <td>0</td>\n",
       "      <td>0</td>\n",
       "      <td>1</td>\n",
       "      <td>1</td>\n",
       "      <td>1</td>\n",
       "      <td>1</td>\n",
       "      <td>0</td>\n",
       "      <td>0</td>\n",
       "      <td>0</td>\n",
       "      <td>0</td>\n",
       "      <td>0</td>\n",
       "      <td>1</td>\n",
       "      <td>1</td>\n",
       "      <td>1</td>\n",
       "      <td>1</td>\n",
       "      <td>1</td>\n",
       "      <td>1</td>\n",
       "      <td>0</td>\n",
       "      <td>1.0</td>\n",
       "      <td>0</td>\n",
       "    </tr>\n",
       "    <tr>\n",
       "      <th>32</th>\n",
       "      <td>0</td>\n",
       "      <td>1</td>\n",
       "      <td>1</td>\n",
       "      <td>1</td>\n",
       "      <td>1</td>\n",
       "      <td>1</td>\n",
       "      <td>1</td>\n",
       "      <td>0</td>\n",
       "      <td>0</td>\n",
       "      <td>1</td>\n",
       "      <td>1</td>\n",
       "      <td>1</td>\n",
       "      <td>1</td>\n",
       "      <td>1</td>\n",
       "      <td>1</td>\n",
       "      <td>1</td>\n",
       "      <td>1</td>\n",
       "      <td>1</td>\n",
       "      <td>1.0</td>\n",
       "      <td>0</td>\n",
       "    </tr>\n",
       "    <tr>\n",
       "      <th>51</th>\n",
       "      <td>1</td>\n",
       "      <td>0</td>\n",
       "      <td>1</td>\n",
       "      <td>1</td>\n",
       "      <td>1</td>\n",
       "      <td>1</td>\n",
       "      <td>1</td>\n",
       "      <td>0</td>\n",
       "      <td>0</td>\n",
       "      <td>0</td>\n",
       "      <td>0</td>\n",
       "      <td>1</td>\n",
       "      <td>1</td>\n",
       "      <td>1</td>\n",
       "      <td>1</td>\n",
       "      <td>1</td>\n",
       "      <td>0</td>\n",
       "      <td>0</td>\n",
       "      <td>1.0</td>\n",
       "      <td>0</td>\n",
       "    </tr>\n",
       "    <tr>\n",
       "      <th>63</th>\n",
       "      <td>0</td>\n",
       "      <td>1</td>\n",
       "      <td>1</td>\n",
       "      <td>1</td>\n",
       "      <td>1</td>\n",
       "      <td>1</td>\n",
       "      <td>1</td>\n",
       "      <td>1</td>\n",
       "      <td>1</td>\n",
       "      <td>0</td>\n",
       "      <td>0</td>\n",
       "      <td>0</td>\n",
       "      <td>1</td>\n",
       "      <td>1</td>\n",
       "      <td>1</td>\n",
       "      <td>1</td>\n",
       "      <td>1</td>\n",
       "      <td>0</td>\n",
       "      <td>1.0</td>\n",
       "      <td>0</td>\n",
       "    </tr>\n",
       "    <tr>\n",
       "      <th>82</th>\n",
       "      <td>1</td>\n",
       "      <td>1</td>\n",
       "      <td>1</td>\n",
       "      <td>1</td>\n",
       "      <td>1</td>\n",
       "      <td>1</td>\n",
       "      <td>0</td>\n",
       "      <td>1</td>\n",
       "      <td>0</td>\n",
       "      <td>1</td>\n",
       "      <td>1</td>\n",
       "      <td>1</td>\n",
       "      <td>1</td>\n",
       "      <td>1</td>\n",
       "      <td>1</td>\n",
       "      <td>1</td>\n",
       "      <td>1</td>\n",
       "      <td>1</td>\n",
       "      <td>1.0</td>\n",
       "      <td>0</td>\n",
       "    </tr>\n",
       "  </tbody>\n",
       "</table>\n",
       "</div>"
      ],
      "text/plain": [
       "    knn1  knn2  knn3  knn4  knn5  knn6  knn7  knn8  knn9  svm1  svm2  svm3  \\\n",
       "22     0     0     1     1     1     1     0     0     0     0     0     1   \n",
       "32     0     1     1     1     1     1     1     0     0     1     1     1   \n",
       "51     1     0     1     1     1     1     1     0     0     0     0     1   \n",
       "63     0     1     1     1     1     1     1     1     1     0     0     0   \n",
       "82     1     1     1     1     1     1     0     1     0     1     1     1   \n",
       "\n",
       "    svm4  svm5  svm6  svm7  svm8  svm9  prediction  y  \n",
       "22     1     1     1     1     1     0         1.0  0  \n",
       "32     1     1     1     1     1     1         1.0  0  \n",
       "51     1     1     1     1     0     0         1.0  0  \n",
       "63     1     1     1     1     1     0         1.0  0  \n",
       "82     1     1     1     1     1     1         1.0  0  "
      ]
     },
     "execution_count": 38,
     "metadata": {},
     "output_type": "execute_result"
    }
   ],
   "source": [
    "wrong_resultsall = resultsall[resultsall['y'] != resultsall['prediction']]\n",
    "wrong_resultsall.head()"
   ]
  },
  {
   "cell_type": "code",
   "execution_count": 37,
   "metadata": {
    "collapsed": false
   },
   "outputs": [
    {
     "data": {
      "text/plain": [
       "95.08720930232558"
      ]
     },
     "execution_count": 37,
     "metadata": {},
     "output_type": "execute_result"
    }
   ],
   "source": [
    "results_percentageall = 100-(len(wrong_resultsall)/(len(resultsall)/100))\n",
    "results_percentageall"
   ]
  },
  {
   "cell_type": "markdown",
   "metadata": {},
   "source": [
    "# Graphs, AUC, ROC Curve"
   ]
  },
  {
   "cell_type": "code",
   "execution_count": 43,
   "metadata": {
    "collapsed": true
   },
   "outputs": [],
   "source": [
    "roc_score_all = roc_auc_score(resultsall['y'], resultsall['prediction'])\n",
    "roc_score_knn = roc_auc_score(resultsKnn['y'], resultsKnn['predictionknn'])\n",
    "roc_score_svm = roc_auc_score(resultsSvm['y'], resultsSvm['prediction'])"
   ]
  },
  {
   "cell_type": "code",
   "execution_count": 44,
   "metadata": {
    "collapsed": false
   },
   "outputs": [
    {
     "data": {
      "text/plain": [
       "(0.96996445497630324, 0.96196682464454975, 0.94719194312796207)"
      ]
     },
     "execution_count": 44,
     "metadata": {},
     "output_type": "execute_result"
    }
   ],
   "source": [
    "roc_score_all,roc_score_knn,roc_score_svm"
   ]
  },
  {
   "cell_type": "code",
   "execution_count": 46,
   "metadata": {
    "collapsed": true
   },
   "outputs": [],
   "source": [
    "from sklearn.metrics import roc_curve\n",
    "\n",
    "fpr_knn, tpr_knn, _ = roc_curve(resultsKnn['y'], resultsKnn['predictionknn'])\n",
    "fpr_svm, tpr_svm, _ = roc_curve(resultsSvm['y'], resultsSvm['prediction'])\n",
    "fpr_combined, tpr_combined, _ = roc_curve(resultsall['y'], resultsall['prediction'])"
   ]
  },
  {
   "cell_type": "code",
   "execution_count": 48,
   "metadata": {
    "collapsed": false
   },
   "outputs": [
    {
     "data": {
      "image/png": "[encoded data removed]",
      "text/plain": [
       "<matplotlib.figure.Figure at 0x263bb118e80>"
      ]
     },
     "metadata": {},
     "output_type": "display_data"
    }
   ],
   "source": [
    "plt.figure(figsize=(14,10))\n",
    "plt.plot(fpr_knn, tpr_knn, 'b', label='K-Nearest Neighbour')\n",
    "plt.plot(fpr_svm, tpr_svm, 'g', label='Support Vector Machine')\n",
    "#plt.plot(fpr_gbt, tpr_gbt, 'r', label='GBT')\n",
    "plt.plot(fpr_combined, tpr_combined, 'm', label='Combined')\n",
    "plt.legend(loc=0)\n",
    "plt.show()"
   ]
  },
  {
   "cell_type": "code",
   "execution_count": null,
   "metadata": {
    "collapsed": false
   },
   "outputs": [],
   "source": [
    "# gbc = model1gbc.predict(X_val_test)\n",
    "# svm= model1svm.predict(X_val_test)\n",
    "# knn=model1knn.predict(X_val_test)\n",
    "# rf=model1rf.predict(X_val_test)\n",
    "# resultsDF1 = pd.DataFrame(list(zip(gbc,knn,svm,rf,y_val_test)),columns=('GBC','KNN','SVM','RF','y')) #add y for training dataset\n",
    "# resultsDF1['avg1'] = resultsDF1[['GBC', 'KNN','SVM','RF']].mean(axis=1)"
   ]
  },
  {
   "cell_type": "code",
   "execution_count": null,
   "metadata": {
    "collapsed": false
   },
   "outputs": [],
   "source": [
    "# gbc = model2gbc.predict(X_val_test)\n",
    "# svm= model2svm.predict(X_val_test)\n",
    "# knn=model2knn.predict(X_val_test)\n",
    "# rf=model2rf.predict(X_val_test)\n",
    "# resultsDF2 = pd.DataFrame(list(zip(gbc,knn,svm,rf)),columns=('GBC','KNN','SVM','RF'))\n",
    "# resultsDF2['avg2'] = resultsDF2[['GBC', 'KNN','SVM','RF']].mean(axis=1)"
   ]
  },
  {
   "cell_type": "code",
   "execution_count": null,
   "metadata": {
    "collapsed": true
   },
   "outputs": [],
   "source": [
    "# gbc = model3gbc.predict(X_val_test)\n",
    "# svm= model3svm.predict(X_val_test)\n",
    "# knn=model3knn.predict(X_val_test)\n",
    "# rf=model3rf.predict(X_val_test)\n",
    "# resultsDF3 = pd.DataFrame(list(zip(gbc,knn,svm,rf)),columns=('GBC','KNN','SVM','RF'))\n",
    "# resultsDF3['avg3'] = resultsDF3[['GBC', 'KNN','SVM','RF']].mean(axis=1)"
   ]
  },
  {
   "cell_type": "code",
   "execution_count": null,
   "metadata": {
    "collapsed": false
   },
   "outputs": [],
   "source": [
    "# gbc = model4gbc.predict(X_val_test)\n",
    "# #model4gbc.score(X,y)\n",
    "# svm= model4svm.predict(X_val_test)\n",
    "# #model4svm.score(X,y)\n",
    "# knn=model4knn.predict(X_val_test)\n",
    "# rf=model4rf.predict(X_val_test)\n",
    "# #model4knn.score(X,y)\n",
    "# resultsDF4 = pd.DataFrame(list(zip(gbc,knn,svm,rf)),columns=('GBC','KNN','SVM','RF'))\n",
    "# resultsDF4['avg4'] = resultsDF4[['GBC', 'KNN','SVM','RF']].mean(axis=1)"
   ]
  },
  {
   "cell_type": "code",
   "execution_count": null,
   "metadata": {
    "collapsed": true
   },
   "outputs": [],
   "source": [
    "# gbc = model5gbc.predict(X_val_test)\n",
    "# svm= model5svm.predict(X_val_test)\n",
    "# knn=model5knn.predict(X_val_test)\n",
    "# rf=model5rf.predict(X_val_test)\n",
    "# resultsDF5 = pd.DataFrame(list(zip(gbc,knn,svm,rf)),columns=('GBC','KNN','SVM','RF'))\n",
    "# resultsDF5['avg5'] = resultsDF5[['GBC', 'KNN','SVM','RF']].mean(axis=1)"
   ]
  },
  {
   "cell_type": "code",
   "execution_count": null,
   "metadata": {
    "collapsed": true
   },
   "outputs": [],
   "source": [
    "# gbc = model6gbc.predict(X)\n",
    "# svm= model6svm.predict(X)\n",
    "# knn=model6knn.predict(X)\n",
    "# resultsDF6 = pd.DataFrame(list(zip(gbc,knn,svm)),columns=('GBC','KNN','SVM'))\n",
    "# resultsDF6['avg6'] = resultsDF6[['GBC', 'KNN','SVM']].mean(axis=1)"
   ]
  },
  {
   "cell_type": "code",
   "execution_count": null,
   "metadata": {
    "collapsed": true
   },
   "outputs": [],
   "source": [
    "# gbc = model7gbc.predict(X)\n",
    "# svm= model7svm.predict(X)\n",
    "# knn=model7knn.predict(X)\n",
    "# resultsDF7 = pd.DataFrame(list(zip(gbc,knn,svm)),columns=('GBC','KNN','SVM'))\n",
    "# resultsDF7['avg7'] = resultsDF7[['GBC', 'KNN','SVM']].mean(axis=1)"
   ]
  },
  {
   "cell_type": "code",
   "execution_count": null,
   "metadata": {
    "collapsed": false
   },
   "outputs": [],
   "source": [
    "resultsDF = pd.concat([resultsDF1['avg1'],resultsDF2['avg2'],resultsDF3['avg3'],resultsDF4['avg4'],resultsDF5['avg5'],resultsDF1['y']],axis=1)"
   ]
  },
  {
   "cell_type": "code",
   "execution_count": null,
   "metadata": {
    "collapsed": true
   },
   "outputs": [],
   "source": [
    "resultsDF['prediction']= round(resultsDF[['avg1','avg2','avg3','avg4','avg5']].mean(axis=1))"
   ]
  },
  {
   "cell_type": "code",
   "execution_count": null,
   "metadata": {
    "collapsed": true
   },
   "outputs": [],
   "source": [
    "resultsDF['prediction'] = resultsDF['prediction'].astype('int')"
   ]
  },
  {
   "cell_type": "code",
   "execution_count": null,
   "metadata": {
    "collapsed": true
   },
   "outputs": [],
   "source": [
    "wrong_results = resultsDF[resultsDF['y'] != resultsDF['prediction']]"
   ]
  },
  {
   "cell_type": "code",
   "execution_count": null,
   "metadata": {
    "collapsed": true
   },
   "outputs": [],
   "source": [
    "results_percentage = 100-(len(wrong_results)/(len(resultsDF)/100))"
   ]
  },
  {
   "cell_type": "code",
   "execution_count": null,
   "metadata": {
    "collapsed": false
   },
   "outputs": [],
   "source": [
    "results_percentage"
   ]
  },
  {
   "cell_type": "code",
   "execution_count": null,
   "metadata": {
    "collapsed": false
   },
   "outputs": [],
   "source": [
    "resultsrf = pd.concat([resultsDF1['RF'],resultsDF2['RF'],resultsDF3['RF'],resultsDF4['RF'],resultsDF5['RF']],\n",
    "                      axis=1)"
   ]
  },
  {
   "cell_type": "code",
   "execution_count": null,
   "metadata": {
    "collapsed": false
   },
   "outputs": [],
   "source": [
    "resultsrf.columns=['RF1','RF2','RF3','RF4','RF5']"
   ]
  },
  {
   "cell_type": "code",
   "execution_count": null,
   "metadata": {
    "collapsed": false
   },
   "outputs": [],
   "source": [
    "resultsrf['prediction']= round(resultsrf[['RF1','RF2','RF3','RF4','RF5']].mean(axis=1))"
   ]
  },
  {
   "cell_type": "code",
   "execution_count": null,
   "metadata": {
    "collapsed": true
   },
   "outputs": [],
   "source": [
    "resultsrf['y']=resultsDF1['y']"
   ]
  },
  {
   "cell_type": "code",
   "execution_count": null,
   "metadata": {
    "collapsed": false
   },
   "outputs": [],
   "source": [
    "resultsrf['prediction'] = resultsrf['prediction'].astype('int')"
   ]
  },
  {
   "cell_type": "code",
   "execution_count": null,
   "metadata": {
    "collapsed": true
   },
   "outputs": [],
   "source": [
    "wrong_results_rf = resultsrf[resultsrf['y'] != resultsrf['prediction']]"
   ]
  },
  {
   "cell_type": "code",
   "execution_count": null,
   "metadata": {
    "collapsed": true
   },
   "outputs": [],
   "source": [
    "results_percentage_rf = 100-(len(wrong_results_rf)/(len(resultsrf)/100))"
   ]
  },
  {
   "cell_type": "code",
   "execution_count": null,
   "metadata": {
    "collapsed": false
   },
   "outputs": [],
   "source": [
    "results_percentage_rf"
   ]
  },
  {
   "cell_type": "code",
   "execution_count": null,
   "metadata": {
    "collapsed": true
   },
   "outputs": [],
   "source": [
    "resultssvm = pd.concat([resultsDF1['SVM'],resultsDF2['SVM'],resultsDF3['SVM'],resultsDF4['SVM'],resultsDF5['SVM'],\n",
    "                      resultsDF6['SVM'],resultsDF7['SVM']],axis=1)"
   ]
  },
  {
   "cell_type": "code",
   "execution_count": null,
   "metadata": {
    "collapsed": true
   },
   "outputs": [],
   "source": [
    "resultsknn = pd.concat([resultsDF1['KNN'],resultsDF2['KNN'],resultsDF3['KNN'],resultsDF4['KNN'],resultsDF5['KNN'],\n",
    "                      resultsDF6['KNN'],resultsDF7['KNN']],axis=1)"
   ]
  },
  {
   "cell_type": "code",
   "execution_count": null,
   "metadata": {
    "collapsed": true
   },
   "outputs": [],
   "source": [
    "resultsgbc = pd.concat([resultsDF1['GBC'],resultsDF2['GBC'],resultsDF3['GBC'],resultsDF4['GBC'],resultsDF5['GBC'],\n",
    "                      resultsDF6['GBC'],resultsDF7['GBC']],axis=1)"
   ]
  },
  {
   "cell_type": "code",
   "execution_count": null,
   "metadata": {
    "collapsed": false
   },
   "outputs": [],
   "source": [
    "resultsDF['Prediction'] = resultsDF.mean(axis=1) #round(resultsDF.mean(axis=1))"
   ]
  },
  {
   "cell_type": "code",
   "execution_count": null,
   "metadata": {
    "collapsed": false
   },
   "outputs": [],
   "source": [
    "#resultsDF[resultsDF['Prediction']>0.5]\n",
    "#patient1_results = pd.DataFrame(list(zip(uncorrupted_files,resultssvm['Prediction'])),columns=('Files','Class'))\n",
    "#patient1_results.to_csv('patient1_results.csv')"
   ]
  },
  {
   "cell_type": "code",
   "execution_count": null,
   "metadata": {
    "collapsed": false
   },
   "outputs": [],
   "source": [
    "#patient1_results"
   ]
  },
  {
   "cell_type": "code",
   "execution_count": null,
   "metadata": {
    "collapsed": false
   },
   "outputs": [],
   "source": [
    "#resultssvm['Prediction'] = round(resultssvm.mean(axis=1))"
   ]
  },
  {
   "cell_type": "code",
   "execution_count": null,
   "metadata": {
    "collapsed": true
   },
   "outputs": [],
   "source": [
    "#resultsknn['Prediction'] = round(resultsknn.mean(axis=1))"
   ]
  },
  {
   "cell_type": "code",
   "execution_count": null,
   "metadata": {
    "collapsed": true
   },
   "outputs": [],
   "source": [
    "#resultsgbc['Prediction'] = round(resultsgbc.mean(axis=1))"
   ]
  },
  {
   "cell_type": "code",
   "execution_count": null,
   "metadata": {
    "collapsed": false
   },
   "outputs": [],
   "source": [
    "#xx =pd.concat([resultsgbc['Prediction'],resultsknn['Prediction'],resultssvm['Prediction']], axis=0, join='outer')\n",
    "         "
   ]
  },
  {
   "cell_type": "code",
   "execution_count": null,
   "metadata": {
    "collapsed": false
   },
   "outputs": [],
   "source": [
    "resultsrf"
   ]
  },
  {
   "cell_type": "code",
   "execution_count": null,
   "metadata": {
    "collapsed": false
   },
   "outputs": [],
   "source": []
  },
  {
   "cell_type": "code",
   "execution_count": null,
   "metadata": {
    "collapsed": true
   },
   "outputs": [],
   "source": []
  },
  {
   "cell_type": "code",
   "execution_count": null,
   "metadata": {
    "collapsed": false
   },
   "outputs": [],
   "source": []
  },
  {
   "cell_type": "code",
   "execution_count": null,
   "metadata": {
    "collapsed": false
   },
   "outputs": [],
   "source": [
    "#resultsknn[resultsknn['Prediction']==1]"
   ]
  },
  {
   "cell_type": "code",
   "execution_count": null,
   "metadata": {
    "collapsed": false
   },
   "outputs": [],
   "source": [
    "start=0\n",
    "step=600\n",
    "finish=600\n",
    "for index in range(int(len(resultssvm)/step)):\n",
    "    temp = resultssvm[start:finish]\n",
    "    status = round(temp['Prediction'].mean(axis=0))\n",
    "    print ('{} Status {}'.format(index,status))\n",
    "    start+=step\n",
    "    finish+=step\n",
    "    \n"
   ]
  },
  {
   "cell_type": "code",
   "execution_count": null,
   "metadata": {
    "collapsed": false
   },
   "outputs": [],
   "source": [
    "#resultsDF[resultsDF['Prediction'] != resultsDF['y']]"
   ]
  },
  {
   "cell_type": "code",
   "execution_count": null,
   "metadata": {
    "collapsed": false
   },
   "outputs": [],
   "source": [
    "#resultssvm[resultssvm['Prediction']==1]"
   ]
  },
  {
   "cell_type": "code",
   "execution_count": null,
   "metadata": {
    "collapsed": false
   },
   "outputs": [],
   "source": []
  },
  {
   "cell_type": "code",
   "execution_count": null,
   "metadata": {
    "collapsed": false
   },
   "outputs": [],
   "source": []
  },
  {
   "cell_type": "code",
   "execution_count": null,
   "metadata": {
    "collapsed": false
   },
   "outputs": [],
   "source": []
  },
  {
   "cell_type": "markdown",
   "metadata": {
    "collapsed": true
   },
   "source": [
    "# Testing"
   ]
  },
  {
   "cell_type": "code",
   "execution_count": null,
   "metadata": {
    "collapsed": true
   },
   "outputs": [],
   "source": [
    "test_path = r\"C:\\Users\\Chris De Villier\\Documents\\test_2_new\"\n",
    "#test_path = r\"/data/train_1\"\n",
    "def accessTestData(path):\n",
    "    '''\n",
    "    Access files in directories and get their names\n",
    "    '''\n",
    "\n",
    "    testFileList =[]\n",
    "    file_list = [x for x in os.walk(path)]\n",
    "    #print(file_list)\n",
    "    names = str(file_list).split(\",\")\n",
    "    #print(names[3])\n",
    "    for name in names[2:]:\n",
    "        testFileList.append(name.replace('\"','').replace(\"'\",\"\").replace(\"[\",\"\").replace(\"]\",\"\").replace(\")\",\"\").replace(\"(\",\"\"))\n",
    "  \n",
    "    return testFileList"
   ]
  },
  {
   "cell_type": "code",
   "execution_count": null,
   "metadata": {
    "collapsed": true
   },
   "outputs": [],
   "source": [
    "def getResults(path):\n",
    "    ''' Get files contents. files are in .mat format (Matlab format)'''\n",
    "    model1gbc = joblib.load('patient1_model1_gbc.pkl')\n",
    "    model1knn = joblib.load('patient1_model1_knnclf.pkl')\n",
    "    model1svm = joblib.load('patient1_model1_svm.pkl')\n",
    "\n",
    "    model2gbc = joblib.load('patient1_model2_GBC.pkl')\n",
    "    model2knn = joblib.load('patient1_model2_knnclf.pkl')\n",
    "    model2svm = joblib.load('patient1_model2_svm.pkl')\n",
    "\n",
    "    model3gbc = joblib.load('patient1_model3_GBC.pkl')\n",
    "    model3knn = joblib.load('patient1_model3_knnclf.pkl')\n",
    "    model3svm = joblib.load('patient1_model3_svm.pkl')\n",
    "\n",
    "    model4gbc = joblib.load('patient1_model4_GBC.pkl')\n",
    "    model4knn = joblib.load('patient1_model4_knnclf.pkl')\n",
    "    model4svm = joblib.load('patient1_model4_svm.pkl')\n",
    "\n",
    "    model5gbc = joblib.load('patient1_model5_GBC.pkl')\n",
    "    model5knn = joblib.load('patient1_model5_knnclf.pkl')\n",
    "    model5svm = joblib.load('patient1_model5_svm.pkl')\n",
    "\n",
    "    model6gbc = joblib.load('patient1_model6_GBC.pkl')\n",
    "    model6knn = joblib.load('patient1_model6_knnclf.pkl')\n",
    "    model6svm = joblib.load('patient1_model6_svm.pkl')\n",
    "\n",
    "    model7gbc = joblib.load('patient1_model7_GBC.pkl')\n",
    "    model7knn = joblib.load('patient1_model7_knnclf.pkl')\n",
    "    model7svm = joblib.load('patient1_model7_svm.pkl')\n",
    "    corrupted_files =[]\n",
    "    results =[]\n",
    "    fileNames =[]\n",
    "    empty = ' '\n",
    "    \n",
    "    testFileList = accessTestData(test_path)\n",
    "    files,corrupted_files,uncorrupted_files = getFiles(testFileList,test_path)\n",
    "    print('Length of file ',len(testFileList))\n",
    "    \n",
    "    for i in range(len(files)):\n",
    "        #ordered_file = ordered_channel_data(files[i])\n",
    "        X = np.array(files[i])#files[i]\n",
    "        X = preprocessing.scale(X)\n",
    "\n",
    "        fileStatus,resultsDF = gradientBoostedPrediction(X)\n",
    "        #fileStatus = svmPrediction(X)\n",
    "        #fileStatus = randomForestPrediction(X) \n",
    "\n",
    "        fileNames.append(uncorrupted_files[i])\n",
    "        results.append(fileStatus) #after prediction, append the class variable for the file to results\n",
    "        print('Status is ...',fileStatus)\n",
    "        #print('filename is ...',uncorrupted_files[i] )\n",
    "    \n",
    "#     ''' Gradient Boosted Training'''\n",
    "#     gradientBoostedTraining(X_train,y_train)\n",
    "#     ''' Random Forest Training'''\n",
    "#     #randomForestTraining(X_train,y_train)\n",
    "#     ''' SVM Training'''\n",
    "    \n",
    "#     svmTrain(X_train,y_train)\n",
    "    \n",
    "    return fileNames,results,resultsDF"
   ]
  },
  {
   "cell_type": "code",
   "execution_count": null,
   "metadata": {
    "collapsed": true
   },
   "outputs": [],
   "source": [
    "def gradientBoostedPrediction(X_test):  \n",
    "    print('Starting on prediction')\n",
    "    ''' load the pickled model first please'''\n",
    "    #GBC = joblib.load('GBCPickle1.pkl')\n",
    "    #predict = clf.predict(X_test)\n",
    "    \n",
    "    gbc = model1gbc.predict(X)\n",
    "    svm= model1svm.predict(X)\n",
    "    knn=model1knn.predict(X)\n",
    "    resultsDF1 = pd.DataFrame(list(zip(gbc,knn,svm,y)),columns=('GBC','KNN','SVM','Y'))\n",
    "    resultsDF1['avg1'] = resultsDF1[['GBC', 'KNN','SVM']].mean(axis=1)\n",
    "\n",
    "    gbc = model2gbc.predict(X)\n",
    "    svm= model2svm.predict(X)\n",
    "    knn=model2knn.predict(X)\n",
    "    resultsDF2 = pd.DataFrame(list(zip(gbc,knn,svm,y)),columns=('GBC','KNN','SVM','Y'))\n",
    "    resultsDF2['avg2'] = resultsDF2[['GBC', 'KNN','SVM']].mean(axis=1)\n",
    "\n",
    "    gbc = model3gbc.predict(X)\n",
    "    svm= model3svm.predict(X)\n",
    "    knn=model3knn.predict(X)\n",
    "    resultsDF3 = pd.DataFrame(list(zip(gbc,knn,svm,y)),columns=('GBC','KNN','SVM','Y'))\n",
    "    resultsDF3['avg3'] = resultsDF3[['GBC', 'KNN','SVM']].mean(axis=1)\n",
    "\n",
    "    gbc = model4gbc.predict(X)\n",
    "    #model4gbc.score(X,y)\n",
    "    svm= model4svm.predict(X)\n",
    "    #model4svm.score(X,y)\n",
    "    knn=model4knn.predict(X)\n",
    "    #model4knn.score(X,y)\n",
    "    resultsDF4 = pd.DataFrame(list(zip(gbc,knn,svm,y)),columns=('GBC','KNN','SVM','Y'))\n",
    "    resultsDF4['avg4'] = resultsDF4[['GBC', 'KNN','SVM']].mean(axis=1)\n",
    "\n",
    "    gbc = model5gbc.predict(X)\n",
    "    svm= model5svm.predict(X)\n",
    "    knn=model5knn.predict(X)\n",
    "    resultsDF5 = pd.DataFrame(list(zip(gbc,knn,svm,y)),columns=('GBC','KNN','SVM','Y'))\n",
    "    resultsDF5['avg5'] = resultsDF5[['GBC', 'KNN','SVM']].mean(axis=1)\n",
    "\n",
    "    gbc = model6gbc.predict(X)\n",
    "    svm= model6svm.predict(X)\n",
    "    knn=model6knn.predict(X)\n",
    "    resultsDF6 = pd.DataFrame(list(zip(gbc,knn,svm,y)),columns=('GBC','KNN','SVM','Y'))\n",
    "    resultsDF6['avg6'] = resultsDF6[['GBC', 'KNN','SVM']].mean(axis=1)\n",
    "\n",
    "    gbc = model7gbc.predict(X)\n",
    "    svm= model7svm.predict(X)\n",
    "    knn=model7knn.predict(X)\n",
    "    resultsDF7 = pd.DataFrame(list(zip(gbc,knn,svm,y)),columns=('GBC','KNN','SVM','Y'))\n",
    "    resultsDF7['avg7'] = resultsDF7[['GBC', 'KNN','SVM']].mean(axis=1)\n",
    "\n",
    "    resultsDF = pd.concat([resultsDF1['avg1'],resultsDF2['avg2'],resultsDF3['avg3'],resultsDF4['avg4'],resultsDF5['avg5'],\n",
    "                          resultsDF6['avg6'],resultsDF7['avg7']],axis=1)\n",
    "\n",
    "    resultsDF['Prediction'] = round(resultsDF.mean(axis=1))\n",
    "    \n",
    "    #predict = np.array(predict)\n",
    "    predict = np.array(resultsDF['Prediction'])\n",
    "    prediction = stats.itemfreq(predict)\n",
    "    print(prediction)\n",
    "    if len(prediction) == 1:\n",
    "        status = prediction[0][0]\n",
    "    elif len(prediction) == 2:\n",
    "        if prediction[0][1] > prediction[1][1]:\n",
    "            status = 0\n",
    "            print(status)\n",
    "        elif prediction[0][1] < prediction[1][1]:\n",
    "            status = 1\n",
    "            print(status)\n",
    "        else : \n",
    "            status = 0.5\n",
    "            print(status)\n",
    "    \n",
    "    return status,resultsDF"
   ]
  },
  {
   "cell_type": "code",
   "execution_count": null,
   "metadata": {
    "collapsed": false
   },
   "outputs": [],
   "source": [
    "names,results,resultsdf = getResults(test_path)"
   ]
  },
  {
   "cell_type": "code",
   "execution_count": null,
   "metadata": {
    "collapsed": true
   },
   "outputs": [],
   "source": []
  }
 ],
 "metadata": {
  "anaconda-cloud": {},
  "kernelspec": {
   "display_name": "Python 3",
   "language": "python",
   "name": "python3"
  },
  "language_info": {
   "codemirror_mode": {
    "name": "ipython",
    "version": 3
   },
   "file_extension": ".py",
   "mimetype": "text/x-python",
   "name": "python",
   "nbconvert_exporter": "python",
   "pygments_lexer": "ipython3",
   "version": "3.5.2"
  }
 },
 "nbformat": 4,
 "nbformat_minor": 0
}
